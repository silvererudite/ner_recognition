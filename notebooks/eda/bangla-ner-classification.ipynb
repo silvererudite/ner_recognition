{
 "cells": [
  {
   "cell_type": "code",
   "execution_count": 1,
   "id": "83475837",
   "metadata": {
    "_cell_guid": "b1076dfc-b9ad-4769-8c92-a6c4dae69d19",
    "_uuid": "8f2839f25d086af736a60e9eeb907d3b93b6e0e5",
    "execution": {
     "iopub.execute_input": "2023-01-20T07:29:53.665208Z",
     "iopub.status.busy": "2023-01-20T07:29:53.664376Z",
     "iopub.status.idle": "2023-01-20T07:29:53.674563Z",
     "shell.execute_reply": "2023-01-20T07:29:53.673773Z"
    },
    "papermill": {
     "duration": 0.022599,
     "end_time": "2023-01-20T07:29:53.676736",
     "exception": false,
     "start_time": "2023-01-20T07:29:53.654137",
     "status": "completed"
    },
    "tags": []
   },
   "outputs": [],
   "source": [
    "# This Python 3 environment comes with many helpful analytics libraries installed\n",
    "# It is defined by the kaggle/python Docker image: https://github.com/kaggle/docker-python\n",
    "# For example, here's several helpful packages to load\n",
    "\n",
    "import numpy as np # linear algebra\n",
    "import pandas as pd # data processing, CSV file I/O (e.g. pd.read_csv)\n",
    "\n",
    "# Input data files are available in the read-only \"../input/\" directory\n",
    "# For example, running this (by clicking run or pressing Shift+Enter) will list all files under the input directory\n",
    "\n",
    "import os\n"
   ]
  },
  {
   "cell_type": "code",
   "execution_count": 2,
   "id": "b8cd03eb",
   "metadata": {
    "execution": {
     "iopub.execute_input": "2023-01-20T07:29:53.693690Z",
     "iopub.status.busy": "2023-01-20T07:29:53.693269Z",
     "iopub.status.idle": "2023-01-20T07:29:53.697953Z",
     "shell.execute_reply": "2023-01-20T07:29:53.696874Z"
    },
    "papermill": {
     "duration": 0.015596,
     "end_time": "2023-01-20T07:29:53.700006",
     "exception": false,
     "start_time": "2023-01-20T07:29:53.684410",
     "status": "completed"
    },
    "tags": []
   },
   "outputs": [],
   "source": [
    "DATA_DIR = '/kaggle/input/bangla-ner/data/'"
   ]
  },
  {
   "cell_type": "code",
   "execution_count": 3,
   "id": "5ddb8b62",
   "metadata": {
    "execution": {
     "iopub.execute_input": "2023-01-20T07:29:53.717087Z",
     "iopub.status.busy": "2023-01-20T07:29:53.716268Z",
     "iopub.status.idle": "2023-01-20T07:29:53.958100Z",
     "shell.execute_reply": "2023-01-20T07:29:53.956976Z"
    },
    "papermill": {
     "duration": 0.253049,
     "end_time": "2023-01-20T07:29:53.960558",
     "exception": false,
     "start_time": "2023-01-20T07:29:53.707509",
     "status": "completed"
    },
    "tags": []
   },
   "outputs": [
    {
     "data": {
      "text/html": [
       "<div>\n",
       "<style scoped>\n",
       "    .dataframe tbody tr th:only-of-type {\n",
       "        vertical-align: middle;\n",
       "    }\n",
       "\n",
       "    .dataframe tbody tr th {\n",
       "        vertical-align: top;\n",
       "    }\n",
       "\n",
       "    .dataframe thead th {\n",
       "        text-align: right;\n",
       "    }\n",
       "</style>\n",
       "<table border=\"1\" class=\"dataframe\">\n",
       "  <thead>\n",
       "    <tr style=\"text-align: right;\">\n",
       "      <th></th>\n",
       "      <th>0</th>\n",
       "      <th>1</th>\n",
       "      <th>2</th>\n",
       "      <th>3</th>\n",
       "    </tr>\n",
       "  </thead>\n",
       "  <tbody>\n",
       "    <tr>\n",
       "      <th>0</th>\n",
       "      <td>তার</td>\n",
       "      <td>_</td>\n",
       "      <td>_</td>\n",
       "      <td>O</td>\n",
       "    </tr>\n",
       "    <tr>\n",
       "      <th>1</th>\n",
       "      <td>মৃত্যুর</td>\n",
       "      <td>_</td>\n",
       "      <td>_</td>\n",
       "      <td>O</td>\n",
       "    </tr>\n",
       "    <tr>\n",
       "      <th>2</th>\n",
       "      <td>দশ</td>\n",
       "      <td>_</td>\n",
       "      <td>_</td>\n",
       "      <td>O</td>\n",
       "    </tr>\n",
       "    <tr>\n",
       "      <th>3</th>\n",
       "      <td>দিন</td>\n",
       "      <td>_</td>\n",
       "      <td>_</td>\n",
       "      <td>O</td>\n",
       "    </tr>\n",
       "    <tr>\n",
       "      <th>4</th>\n",
       "      <td>পর,</td>\n",
       "      <td>_</td>\n",
       "      <td>_</td>\n",
       "      <td>O</td>\n",
       "    </tr>\n",
       "    <tr>\n",
       "      <th>5</th>\n",
       "      <td>১১৫</td>\n",
       "      <td>_</td>\n",
       "      <td>_</td>\n",
       "      <td>O</td>\n",
       "    </tr>\n",
       "    <tr>\n",
       "      <th>6</th>\n",
       "      <td>কৃষ্ণাঙ্গ</td>\n",
       "      <td>_</td>\n",
       "      <td>_</td>\n",
       "      <td>O</td>\n",
       "    </tr>\n",
       "    <tr>\n",
       "      <th>7</th>\n",
       "      <td>উচ্চ</td>\n",
       "      <td>_</td>\n",
       "      <td>_</td>\n",
       "      <td>O</td>\n",
       "    </tr>\n",
       "    <tr>\n",
       "      <th>8</th>\n",
       "      <td>বিদ্যালয়ের</td>\n",
       "      <td>_</td>\n",
       "      <td>_</td>\n",
       "      <td>O</td>\n",
       "    </tr>\n",
       "    <tr>\n",
       "      <th>9</th>\n",
       "      <td>শিক্ষার্থীরা</td>\n",
       "      <td>_</td>\n",
       "      <td>_</td>\n",
       "      <td>O</td>\n",
       "    </tr>\n",
       "    <tr>\n",
       "      <th>10</th>\n",
       "      <td>তার</td>\n",
       "      <td>_</td>\n",
       "      <td>_</td>\n",
       "      <td>O</td>\n",
       "    </tr>\n",
       "    <tr>\n",
       "      <th>11</th>\n",
       "      <td>হত্যার</td>\n",
       "      <td>_</td>\n",
       "      <td>_</td>\n",
       "      <td>O</td>\n",
       "    </tr>\n",
       "    <tr>\n",
       "      <th>12</th>\n",
       "      <td>প্রতিবাদে</td>\n",
       "      <td>_</td>\n",
       "      <td>_</td>\n",
       "      <td>O</td>\n",
       "    </tr>\n",
       "    <tr>\n",
       "      <th>13</th>\n",
       "      <td>ম্যাককম্ব</td>\n",
       "      <td>_</td>\n",
       "      <td>_</td>\n",
       "      <td>B-LOC</td>\n",
       "    </tr>\n",
       "    <tr>\n",
       "      <th>14</th>\n",
       "      <td>এর</td>\n",
       "      <td>_</td>\n",
       "      <td>_</td>\n",
       "      <td>O</td>\n",
       "    </tr>\n",
       "    <tr>\n",
       "      <th>15</th>\n",
       "      <td>মাধ্যমে</td>\n",
       "      <td>_</td>\n",
       "      <td>_</td>\n",
       "      <td>O</td>\n",
       "    </tr>\n",
       "    <tr>\n",
       "      <th>16</th>\n",
       "      <td>মিছিল</td>\n",
       "      <td>_</td>\n",
       "      <td>_</td>\n",
       "      <td>O</td>\n",
       "    </tr>\n",
       "    <tr>\n",
       "      <th>17</th>\n",
       "      <td>করেছে।</td>\n",
       "      <td>_</td>\n",
       "      <td>_</td>\n",
       "      <td>O</td>\n",
       "    </tr>\n",
       "    <tr>\n",
       "      <th>18</th>\n",
       "      <td>NaN</td>\n",
       "      <td>NaN</td>\n",
       "      <td>NaN</td>\n",
       "      <td>NaN</td>\n",
       "    </tr>\n",
       "    <tr>\n",
       "      <th>19</th>\n",
       "      <td>ব্রাংম্যান</td>\n",
       "      <td>_</td>\n",
       "      <td>_</td>\n",
       "      <td>O</td>\n",
       "    </tr>\n",
       "  </tbody>\n",
       "</table>\n",
       "</div>"
      ],
      "text/plain": [
       "               0    1    2      3\n",
       "0            তার    _    _      O\n",
       "1        মৃত্যুর    _    _      O\n",
       "2             দশ    _    _      O\n",
       "3            দিন    _    _      O\n",
       "4            পর,    _    _      O\n",
       "5            ১১৫    _    _      O\n",
       "6      কৃষ্ণাঙ্গ    _    _      O\n",
       "7           উচ্চ    _    _      O\n",
       "8    বিদ্যালয়ের    _    _      O\n",
       "9   শিক্ষার্থীরা    _    _      O\n",
       "10           তার    _    _      O\n",
       "11        হত্যার    _    _      O\n",
       "12     প্রতিবাদে    _    _      O\n",
       "13     ম্যাককম্ব    _    _  B-LOC\n",
       "14            এর    _    _      O\n",
       "15       মাধ্যমে    _    _      O\n",
       "16         মিছিল    _    _      O\n",
       "17        করেছে।    _    _      O\n",
       "18           NaN  NaN  NaN    NaN\n",
       "19    ব্রাংম্যান    _    _      O"
      ]
     },
     "execution_count": 3,
     "metadata": {},
     "output_type": "execute_result"
    }
   ],
   "source": [
    "train_data = pd.read_csv(DATA_DIR+'train.txt', sep=\" \", header=None, dtype='str', skip_blank_lines=False)\n",
    "train_data.head(20)"
   ]
  },
  {
   "cell_type": "markdown",
   "id": "debd53b4",
   "metadata": {
    "papermill": {
     "duration": 0.007492,
     "end_time": "2023-01-20T07:29:53.977728",
     "exception": false,
     "start_time": "2023-01-20T07:29:53.970236",
     "status": "completed"
    },
    "tags": []
   },
   "source": [
    "* Note: we will use NaNs to represent end of sequence, we need so build sequential models later"
   ]
  },
  {
   "cell_type": "markdown",
   "id": "2204de63",
   "metadata": {
    "papermill": {
     "duration": 0.008137,
     "end_time": "2023-01-20T07:29:53.993658",
     "exception": false,
     "start_time": "2023-01-20T07:29:53.985521",
     "status": "completed"
    },
    "tags": []
   },
   "source": [
    "# Exploratory analysis\n",
    "Intentions\n",
    "- find out different entities found in the training set\n",
    "- find out what kind of tags exist in the training set\n",
    "- something to do about the entities that exist in training but not in the test/valid set "
   ]
  },
  {
   "cell_type": "code",
   "execution_count": 4,
   "id": "75608401",
   "metadata": {
    "execution": {
     "iopub.execute_input": "2023-01-20T07:29:54.012885Z",
     "iopub.status.busy": "2023-01-20T07:29:54.012266Z",
     "iopub.status.idle": "2023-01-20T07:29:54.016623Z",
     "shell.execute_reply": "2023-01-20T07:29:54.015868Z"
    },
    "papermill": {
     "duration": 0.01581,
     "end_time": "2023-01-20T07:29:54.018824",
     "exception": false,
     "start_time": "2023-01-20T07:29:54.003014",
     "status": "completed"
    },
    "tags": []
   },
   "outputs": [],
   "source": [
    "train_data.columns = ['entity', 'space1','space2', 'tag']"
   ]
  },
  {
   "cell_type": "code",
   "execution_count": 5,
   "id": "6fcfa420",
   "metadata": {
    "execution": {
     "iopub.execute_input": "2023-01-20T07:29:54.036552Z",
     "iopub.status.busy": "2023-01-20T07:29:54.035857Z",
     "iopub.status.idle": "2023-01-20T07:29:54.049953Z",
     "shell.execute_reply": "2023-01-20T07:29:54.049034Z"
    },
    "papermill": {
     "duration": 0.025718,
     "end_time": "2023-01-20T07:29:54.052435",
     "exception": false,
     "start_time": "2023-01-20T07:29:54.026717",
     "status": "completed"
    },
    "tags": []
   },
   "outputs": [],
   "source": [
    "train_data.drop(['space1', 'space2'], axis=1, inplace=True)"
   ]
  },
  {
   "cell_type": "code",
   "execution_count": 6,
   "id": "1b280d69",
   "metadata": {
    "execution": {
     "iopub.execute_input": "2023-01-20T07:29:54.074185Z",
     "iopub.status.busy": "2023-01-20T07:29:54.073699Z",
     "iopub.status.idle": "2023-01-20T07:29:54.085156Z",
     "shell.execute_reply": "2023-01-20T07:29:54.084035Z"
    },
    "papermill": {
     "duration": 0.026089,
     "end_time": "2023-01-20T07:29:54.087339",
     "exception": false,
     "start_time": "2023-01-20T07:29:54.061250",
     "status": "completed"
    },
    "tags": []
   },
   "outputs": [
    {
     "data": {
      "text/html": [
       "<div>\n",
       "<style scoped>\n",
       "    .dataframe tbody tr th:only-of-type {\n",
       "        vertical-align: middle;\n",
       "    }\n",
       "\n",
       "    .dataframe tbody tr th {\n",
       "        vertical-align: top;\n",
       "    }\n",
       "\n",
       "    .dataframe thead th {\n",
       "        text-align: right;\n",
       "    }\n",
       "</style>\n",
       "<table border=\"1\" class=\"dataframe\">\n",
       "  <thead>\n",
       "    <tr style=\"text-align: right;\">\n",
       "      <th></th>\n",
       "      <th>entity</th>\n",
       "      <th>tag</th>\n",
       "    </tr>\n",
       "  </thead>\n",
       "  <tbody>\n",
       "    <tr>\n",
       "      <th>0</th>\n",
       "      <td>তার</td>\n",
       "      <td>O</td>\n",
       "    </tr>\n",
       "    <tr>\n",
       "      <th>1</th>\n",
       "      <td>মৃত্যুর</td>\n",
       "      <td>O</td>\n",
       "    </tr>\n",
       "    <tr>\n",
       "      <th>2</th>\n",
       "      <td>দশ</td>\n",
       "      <td>O</td>\n",
       "    </tr>\n",
       "    <tr>\n",
       "      <th>3</th>\n",
       "      <td>দিন</td>\n",
       "      <td>O</td>\n",
       "    </tr>\n",
       "    <tr>\n",
       "      <th>4</th>\n",
       "      <td>পর,</td>\n",
       "      <td>O</td>\n",
       "    </tr>\n",
       "  </tbody>\n",
       "</table>\n",
       "</div>"
      ],
      "text/plain": [
       "    entity tag\n",
       "0      তার   O\n",
       "1  মৃত্যুর   O\n",
       "2       দশ   O\n",
       "3      দিন   O\n",
       "4      পর,   O"
      ]
     },
     "execution_count": 6,
     "metadata": {},
     "output_type": "execute_result"
    }
   ],
   "source": [
    "train_data.head()"
   ]
  },
  {
   "cell_type": "code",
   "execution_count": 7,
   "id": "7559b1d1",
   "metadata": {
    "execution": {
     "iopub.execute_input": "2023-01-20T07:29:54.105829Z",
     "iopub.status.busy": "2023-01-20T07:29:54.105397Z",
     "iopub.status.idle": "2023-01-20T07:29:54.112244Z",
     "shell.execute_reply": "2023-01-20T07:29:54.111156Z"
    },
    "papermill": {
     "duration": 0.018822,
     "end_time": "2023-01-20T07:29:54.114574",
     "exception": false,
     "start_time": "2023-01-20T07:29:54.095752",
     "status": "completed"
    },
    "tags": []
   },
   "outputs": [
    {
     "data": {
      "text/plain": [
       "(184086, 2)"
      ]
     },
     "execution_count": 7,
     "metadata": {},
     "output_type": "execute_result"
    }
   ],
   "source": [
    "train_data.shape"
   ]
  },
  {
   "cell_type": "code",
   "execution_count": 8,
   "id": "a8e90155",
   "metadata": {
    "execution": {
     "iopub.execute_input": "2023-01-20T07:29:54.132561Z",
     "iopub.status.busy": "2023-01-20T07:29:54.132176Z",
     "iopub.status.idle": "2023-01-20T07:29:54.159193Z",
     "shell.execute_reply": "2023-01-20T07:29:54.158083Z"
    },
    "papermill": {
     "duration": 0.038848,
     "end_time": "2023-01-20T07:29:54.161549",
     "exception": false,
     "start_time": "2023-01-20T07:29:54.122701",
     "status": "completed"
    },
    "tags": []
   },
   "outputs": [
    {
     "data": {
      "text/plain": [
       "array(['তার', 'মৃত্যুর', 'দশ', ..., 'নভেম্বরের', 'আসবেন', 'দরগৌদ'],\n",
       "      dtype=object)"
      ]
     },
     "execution_count": 8,
     "metadata": {},
     "output_type": "execute_result"
    }
   ],
   "source": [
    "train_data['entity'].unique()"
   ]
  },
  {
   "cell_type": "code",
   "execution_count": 9,
   "id": "e750cf0d",
   "metadata": {
    "execution": {
     "iopub.execute_input": "2023-01-20T07:29:54.180136Z",
     "iopub.status.busy": "2023-01-20T07:29:54.179688Z",
     "iopub.status.idle": "2023-01-20T07:29:54.204584Z",
     "shell.execute_reply": "2023-01-20T07:29:54.203348Z"
    },
    "papermill": {
     "duration": 0.037258,
     "end_time": "2023-01-20T07:29:54.207222",
     "exception": false,
     "start_time": "2023-01-20T07:29:54.169964",
     "status": "completed"
    },
    "tags": []
   },
   "outputs": [
    {
     "data": {
      "text/plain": [
       "30798"
      ]
     },
     "execution_count": 9,
     "metadata": {},
     "output_type": "execute_result"
    }
   ],
   "source": [
    "len(train_data['entity'].unique())"
   ]
  },
  {
   "cell_type": "code",
   "execution_count": 10,
   "id": "d04051c3",
   "metadata": {
    "execution": {
     "iopub.execute_input": "2023-01-20T07:29:54.225635Z",
     "iopub.status.busy": "2023-01-20T07:29:54.225227Z",
     "iopub.status.idle": "2023-01-20T07:29:54.240326Z",
     "shell.execute_reply": "2023-01-20T07:29:54.239004Z"
    },
    "papermill": {
     "duration": 0.027179,
     "end_time": "2023-01-20T07:29:54.242689",
     "exception": false,
     "start_time": "2023-01-20T07:29:54.215510",
     "status": "completed"
    },
    "tags": []
   },
   "outputs": [
    {
     "data": {
      "text/plain": [
       "array(['O', 'B-LOC', nan, 'B-GRP', 'I-GRP', 'B-PROD', 'B-CW', 'I-CW',\n",
       "       'B-CORP', 'B-PER', 'I-PER', 'I-CORP', 'I-PROD', 'I-LOC'],\n",
       "      dtype=object)"
      ]
     },
     "execution_count": 10,
     "metadata": {},
     "output_type": "execute_result"
    }
   ],
   "source": [
    "train_data['tag'].unique()"
   ]
  },
  {
   "cell_type": "code",
   "execution_count": 11,
   "id": "c000ea5e",
   "metadata": {
    "execution": {
     "iopub.execute_input": "2023-01-20T07:29:54.261254Z",
     "iopub.status.busy": "2023-01-20T07:29:54.260799Z",
     "iopub.status.idle": "2023-01-20T07:29:54.277570Z",
     "shell.execute_reply": "2023-01-20T07:29:54.276268Z"
    },
    "papermill": {
     "duration": 0.02879,
     "end_time": "2023-01-20T07:29:54.279966",
     "exception": false,
     "start_time": "2023-01-20T07:29:54.251176",
     "status": "completed"
    },
    "tags": []
   },
   "outputs": [
    {
     "data": {
      "text/plain": [
       "14"
      ]
     },
     "execution_count": 11,
     "metadata": {},
     "output_type": "execute_result"
    }
   ],
   "source": [
    "len(train_data['tag'].unique())"
   ]
  },
  {
   "cell_type": "markdown",
   "id": "ef389c15",
   "metadata": {
    "papermill": {
     "duration": 0.008351,
     "end_time": "2023-01-20T07:29:54.297295",
     "exception": false,
     "start_time": "2023-01-20T07:29:54.288944",
     "status": "completed"
    },
    "tags": []
   },
   "source": [
    "## Check how many sequences are there"
   ]
  },
  {
   "cell_type": "code",
   "execution_count": 12,
   "id": "9b25f5f2",
   "metadata": {
    "execution": {
     "iopub.execute_input": "2023-01-20T07:29:54.316241Z",
     "iopub.status.busy": "2023-01-20T07:29:54.315793Z",
     "iopub.status.idle": "2023-01-20T07:29:54.344508Z",
     "shell.execute_reply": "2023-01-20T07:29:54.343339Z"
    },
    "papermill": {
     "duration": 0.040876,
     "end_time": "2023-01-20T07:29:54.346824",
     "exception": false,
     "start_time": "2023-01-20T07:29:54.305948",
     "status": "completed"
    },
    "tags": []
   },
   "outputs": [
    {
     "data": {
      "text/plain": [
       "entity    13592\n",
       "tag       13592\n",
       "dtype: int64"
      ]
     },
     "execution_count": 12,
     "metadata": {},
     "output_type": "execute_result"
    }
   ],
   "source": [
    "train_data.isnull().sum().sort_values(ascending=False)"
   ]
  },
  {
   "cell_type": "code",
   "execution_count": 13,
   "id": "b7bd5b13",
   "metadata": {
    "execution": {
     "iopub.execute_input": "2023-01-20T07:29:54.365581Z",
     "iopub.status.busy": "2023-01-20T07:29:54.365141Z",
     "iopub.status.idle": "2023-01-20T07:29:54.398543Z",
     "shell.execute_reply": "2023-01-20T07:29:54.397337Z"
    },
    "papermill": {
     "duration": 0.045695,
     "end_time": "2023-01-20T07:29:54.401121",
     "exception": false,
     "start_time": "2023-01-20T07:29:54.355426",
     "status": "completed"
    },
    "tags": []
   },
   "outputs": [
    {
     "name": "stdout",
     "output_type": "stream",
     "text": [
      "<class 'pandas.core.frame.DataFrame'>\n",
      "RangeIndex: 184086 entries, 0 to 184085\n",
      "Data columns (total 2 columns):\n",
      " #   Column  Non-Null Count   Dtype \n",
      "---  ------  --------------   ----- \n",
      " 0   entity  170494 non-null  object\n",
      " 1   tag     170494 non-null  object\n",
      "dtypes: object(2)\n",
      "memory usage: 2.8+ MB\n"
     ]
    }
   ],
   "source": [
    "train_data.info()"
   ]
  },
  {
   "cell_type": "markdown",
   "id": "bf06e337",
   "metadata": {
    "papermill": {
     "duration": 0.008731,
     "end_time": "2023-01-20T07:29:54.418797",
     "exception": false,
     "start_time": "2023-01-20T07:29:54.410066",
     "status": "completed"
    },
    "tags": []
   },
   "source": [
    "# Convert data type for ease of prre-processing"
   ]
  },
  {
   "cell_type": "code",
   "execution_count": 14,
   "id": "0f24e5cf",
   "metadata": {
    "execution": {
     "iopub.execute_input": "2023-01-20T07:29:54.438908Z",
     "iopub.status.busy": "2023-01-20T07:29:54.437623Z",
     "iopub.status.idle": "2023-01-20T07:29:54.467259Z",
     "shell.execute_reply": "2023-01-20T07:29:54.466068Z"
    },
    "papermill": {
     "duration": 0.042223,
     "end_time": "2023-01-20T07:29:54.469736",
     "exception": false,
     "start_time": "2023-01-20T07:29:54.427513",
     "status": "completed"
    },
    "tags": []
   },
   "outputs": [],
   "source": [
    "train_data['entity'] = train_data['entity'].astype(str)\n",
    "train_data['tag'] = train_data['tag'].astype(str)\n",
    "        "
   ]
  },
  {
   "cell_type": "markdown",
   "id": "a1c529d1",
   "metadata": {
    "papermill": {
     "duration": 0.008429,
     "end_time": "2023-01-20T07:29:54.486957",
     "exception": false,
     "start_time": "2023-01-20T07:29:54.478528",
     "status": "completed"
    },
    "tags": []
   },
   "source": [
    "# Check for punctuations and other not useful characters"
   ]
  },
  {
   "cell_type": "code",
   "execution_count": 15,
   "id": "ab34acc5",
   "metadata": {
    "execution": {
     "iopub.execute_input": "2023-01-20T07:29:54.506178Z",
     "iopub.status.busy": "2023-01-20T07:29:54.505720Z",
     "iopub.status.idle": "2023-01-20T07:29:54.511095Z",
     "shell.execute_reply": "2023-01-20T07:29:54.509969Z"
    },
    "papermill": {
     "duration": 0.017871,
     "end_time": "2023-01-20T07:29:54.513458",
     "exception": false,
     "start_time": "2023-01-20T07:29:54.495587",
     "status": "completed"
    },
    "tags": []
   },
   "outputs": [],
   "source": [
    "non_alpha = set('''```\u0012\u0010\u0002\b`\u0007\b£|¢|\u0007Ñ+-*/=EROero৳•।!()-[]{};:'\"“\\’,<>./?@#$%^&*_~‘—॥”‰🤣⚽️✌�￰৷￰''')\n",
    "#train_data['entity'].values"
   ]
  },
  {
   "cell_type": "code",
   "execution_count": 16,
   "id": "9ee682df",
   "metadata": {
    "execution": {
     "iopub.execute_input": "2023-01-20T07:29:54.532758Z",
     "iopub.status.busy": "2023-01-20T07:29:54.532299Z",
     "iopub.status.idle": "2023-01-20T07:29:54.563124Z",
     "shell.execute_reply": "2023-01-20T07:29:54.562213Z"
    },
    "papermill": {
     "duration": 0.043532,
     "end_time": "2023-01-20T07:29:54.565638",
     "exception": false,
     "start_time": "2023-01-20T07:29:54.522106",
     "status": "completed"
    },
    "tags": []
   },
   "outputs": [],
   "source": [
    "found_nonalphas = set()\n",
    "for ent in train_data['entity'].values:\n",
    "    if ent in non_alpha:\n",
    "        found_nonalphas.add(ent)\n",
    "        "
   ]
  },
  {
   "cell_type": "code",
   "execution_count": 17,
   "id": "180a7c6e",
   "metadata": {
    "execution": {
     "iopub.execute_input": "2023-01-20T07:29:54.585497Z",
     "iopub.status.busy": "2023-01-20T07:29:54.584274Z",
     "iopub.status.idle": "2023-01-20T07:29:54.591184Z",
     "shell.execute_reply": "2023-01-20T07:29:54.590373Z"
    },
    "papermill": {
     "duration": 0.018809,
     "end_time": "2023-01-20T07:29:54.593201",
     "exception": false,
     "start_time": "2023-01-20T07:29:54.574392",
     "status": "completed"
    },
    "tags": []
   },
   "outputs": [
    {
     "data": {
      "text/plain": [
       "{'!',\n",
       " '#',\n",
       " '$',\n",
       " '%',\n",
       " '&',\n",
       " '(',\n",
       " ')',\n",
       " '*',\n",
       " '+',\n",
       " ',',\n",
       " '-',\n",
       " '.',\n",
       " '/',\n",
       " ':',\n",
       " ';',\n",
       " '<',\n",
       " '=',\n",
       " '?',\n",
       " '@',\n",
       " ']',\n",
       " '|',\n",
       " '£',\n",
       " '।',\n",
       " '’',\n",
       " '”'}"
      ]
     },
     "execution_count": 17,
     "metadata": {},
     "output_type": "execute_result"
    }
   ],
   "source": [
    "found_nonalphas"
   ]
  },
  {
   "cell_type": "markdown",
   "id": "b1e8206f",
   "metadata": {
    "papermill": {
     "duration": 0.008389,
     "end_time": "2023-01-20T07:29:54.610701",
     "exception": false,
     "start_time": "2023-01-20T07:29:54.602312",
     "status": "completed"
    },
    "tags": []
   },
   "source": [
    "Since lots of punctuations and other chars are found we need to clean the entites to get rid of them\n",
    "doing so would increase our chosen method's learning abilities without distracting the model on useless items "
   ]
  },
  {
   "cell_type": "code",
   "execution_count": 18,
   "id": "fd2da965",
   "metadata": {
    "execution": {
     "iopub.execute_input": "2023-01-20T07:29:54.630715Z",
     "iopub.status.busy": "2023-01-20T07:29:54.629524Z",
     "iopub.status.idle": "2023-01-20T07:29:54.635188Z",
     "shell.execute_reply": "2023-01-20T07:29:54.634394Z"
    },
    "papermill": {
     "duration": 0.017656,
     "end_time": "2023-01-20T07:29:54.637150",
     "exception": false,
     "start_time": "2023-01-20T07:29:54.619494",
     "status": "completed"
    },
    "tags": []
   },
   "outputs": [],
   "source": [
    "def clean_entity(text):\n",
    "    found_nonalphas = set()\n",
    "    if text:\n",
    "        ans = ''\n",
    "        for ent in text:\n",
    "            if ent not in non_alpha:\n",
    "                ans += ent\n",
    "        return ans\n",
    "    else:\n",
    "        return np.nan"
   ]
  },
  {
   "cell_type": "code",
   "execution_count": 19,
   "id": "4d1fdf45",
   "metadata": {
    "execution": {
     "iopub.execute_input": "2023-01-20T07:29:54.657356Z",
     "iopub.status.busy": "2023-01-20T07:29:54.656176Z",
     "iopub.status.idle": "2023-01-20T07:29:54.981464Z",
     "shell.execute_reply": "2023-01-20T07:29:54.980391Z"
    },
    "papermill": {
     "duration": 0.338082,
     "end_time": "2023-01-20T07:29:54.983941",
     "exception": false,
     "start_time": "2023-01-20T07:29:54.645859",
     "status": "completed"
    },
    "tags": []
   },
   "outputs": [],
   "source": [
    "train_data['entity'] = train_data['entity'].apply(clean_entity)"
   ]
  },
  {
   "cell_type": "code",
   "execution_count": 20,
   "id": "7a12a314",
   "metadata": {
    "execution": {
     "iopub.execute_input": "2023-01-20T07:29:55.004647Z",
     "iopub.status.busy": "2023-01-20T07:29:55.003564Z",
     "iopub.status.idle": "2023-01-20T07:29:55.014890Z",
     "shell.execute_reply": "2023-01-20T07:29:55.013697Z"
    },
    "papermill": {
     "duration": 0.024336,
     "end_time": "2023-01-20T07:29:55.017575",
     "exception": false,
     "start_time": "2023-01-20T07:29:54.993239",
     "status": "completed"
    },
    "tags": []
   },
   "outputs": [
    {
     "data": {
      "text/html": [
       "<div>\n",
       "<style scoped>\n",
       "    .dataframe tbody tr th:only-of-type {\n",
       "        vertical-align: middle;\n",
       "    }\n",
       "\n",
       "    .dataframe tbody tr th {\n",
       "        vertical-align: top;\n",
       "    }\n",
       "\n",
       "    .dataframe thead th {\n",
       "        text-align: right;\n",
       "    }\n",
       "</style>\n",
       "<table border=\"1\" class=\"dataframe\">\n",
       "  <thead>\n",
       "    <tr style=\"text-align: right;\">\n",
       "      <th></th>\n",
       "      <th>entity</th>\n",
       "      <th>tag</th>\n",
       "    </tr>\n",
       "  </thead>\n",
       "  <tbody>\n",
       "    <tr>\n",
       "      <th>0</th>\n",
       "      <td>তার</td>\n",
       "      <td>O</td>\n",
       "    </tr>\n",
       "    <tr>\n",
       "      <th>1</th>\n",
       "      <td>মৃত্যুর</td>\n",
       "      <td>O</td>\n",
       "    </tr>\n",
       "    <tr>\n",
       "      <th>2</th>\n",
       "      <td>দশ</td>\n",
       "      <td>O</td>\n",
       "    </tr>\n",
       "    <tr>\n",
       "      <th>3</th>\n",
       "      <td>দিন</td>\n",
       "      <td>O</td>\n",
       "    </tr>\n",
       "    <tr>\n",
       "      <th>4</th>\n",
       "      <td>পর</td>\n",
       "      <td>O</td>\n",
       "    </tr>\n",
       "    <tr>\n",
       "      <th>5</th>\n",
       "      <td>১১৫</td>\n",
       "      <td>O</td>\n",
       "    </tr>\n",
       "    <tr>\n",
       "      <th>6</th>\n",
       "      <td>কৃষ্ণাঙ্গ</td>\n",
       "      <td>O</td>\n",
       "    </tr>\n",
       "    <tr>\n",
       "      <th>7</th>\n",
       "      <td>উচ্চ</td>\n",
       "      <td>O</td>\n",
       "    </tr>\n",
       "    <tr>\n",
       "      <th>8</th>\n",
       "      <td>বিদ্যালয়ের</td>\n",
       "      <td>O</td>\n",
       "    </tr>\n",
       "    <tr>\n",
       "      <th>9</th>\n",
       "      <td>শিক্ষার্থীরা</td>\n",
       "      <td>O</td>\n",
       "    </tr>\n",
       "  </tbody>\n",
       "</table>\n",
       "</div>"
      ],
      "text/plain": [
       "         entity tag\n",
       "0           তার   O\n",
       "1       মৃত্যুর   O\n",
       "2            দশ   O\n",
       "3           দিন   O\n",
       "4            পর   O\n",
       "5           ১১৫   O\n",
       "6     কৃষ্ণাঙ্গ   O\n",
       "7          উচ্চ   O\n",
       "8   বিদ্যালয়ের   O\n",
       "9  শিক্ষার্থীরা   O"
      ]
     },
     "execution_count": 20,
     "metadata": {},
     "output_type": "execute_result"
    }
   ],
   "source": [
    "train_data.head(10)"
   ]
  },
  {
   "cell_type": "markdown",
   "id": "7553b2a5",
   "metadata": {
    "papermill": {
     "duration": 0.008812,
     "end_time": "2023-01-20T07:29:55.035648",
     "exception": false,
     "start_time": "2023-01-20T07:29:55.026836",
     "status": "completed"
    },
    "tags": []
   },
   "source": [
    "# Check the distribution of tags\n",
    "- we determine which tags appear the most overall and in individual sequences\n",
    "- identify the underrepresented tags"
   ]
  },
  {
   "cell_type": "code",
   "execution_count": 21,
   "id": "ff48935e",
   "metadata": {
    "execution": {
     "iopub.execute_input": "2023-01-20T07:29:55.056969Z",
     "iopub.status.busy": "2023-01-20T07:29:55.055749Z",
     "iopub.status.idle": "2023-01-20T07:29:56.044027Z",
     "shell.execute_reply": "2023-01-20T07:29:56.042770Z"
    },
    "papermill": {
     "duration": 1.001738,
     "end_time": "2023-01-20T07:29:56.046979",
     "exception": false,
     "start_time": "2023-01-20T07:29:55.045241",
     "status": "completed"
    },
    "tags": []
   },
   "outputs": [],
   "source": [
    "import seaborn as sns\n",
    "sns.set(rc={'figure.figsize':(11.7,8.27)})"
   ]
  },
  {
   "cell_type": "markdown",
   "id": "01b7fc43",
   "metadata": {
    "papermill": {
     "duration": 0.009952,
     "end_time": "2023-01-20T07:29:56.071359",
     "exception": false,
     "start_time": "2023-01-20T07:29:56.061407",
     "status": "completed"
    },
    "tags": []
   },
   "source": [
    "let's check first few sequences"
   ]
  },
  {
   "cell_type": "code",
   "execution_count": 22,
   "id": "ae0674c5",
   "metadata": {
    "execution": {
     "iopub.execute_input": "2023-01-20T07:29:56.098510Z",
     "iopub.status.busy": "2023-01-20T07:29:56.097931Z",
     "iopub.status.idle": "2023-01-20T07:29:56.469704Z",
     "shell.execute_reply": "2023-01-20T07:29:56.468383Z"
    },
    "papermill": {
     "duration": 0.389348,
     "end_time": "2023-01-20T07:29:56.472349",
     "exception": false,
     "start_time": "2023-01-20T07:29:56.083001",
     "status": "completed"
    },
    "tags": []
   },
   "outputs": [
    {
     "name": "stderr",
     "output_type": "stream",
     "text": [
      "/opt/conda/lib/python3.7/site-packages/seaborn/_decorators.py:43: FutureWarning: Pass the following variable as a keyword arg: x. From version 0.12, the only valid positional argument will be `data`, and passing other arguments without an explicit keyword will result in an error or misinterpretation.\n",
      "  FutureWarning\n"
     ]
    },
    {
     "data": {
      "text/plain": [
       "<AxesSubplot:xlabel='tag', ylabel='count'>"
      ]
     },
     "execution_count": 22,
     "metadata": {},
     "output_type": "execute_result"
    },
    {
     "data": {
      "image/png": "[encoded data removed]",
      "text/plain": [
       "<Figure size 842.4x595.44 with 1 Axes>"
      ]
     },
     "metadata": {},
     "output_type": "display_data"
    }
   ],
   "source": [
    "sns.countplot(train_data.loc[:100,'tag'])"
   ]
  },
  {
   "cell_type": "code",
   "execution_count": 23,
   "id": "17f14518",
   "metadata": {
    "execution": {
     "iopub.execute_input": "2023-01-20T07:29:56.494650Z",
     "iopub.status.busy": "2023-01-20T07:29:56.493455Z",
     "iopub.status.idle": "2023-01-20T07:29:56.979526Z",
     "shell.execute_reply": "2023-01-20T07:29:56.978671Z"
    },
    "papermill": {
     "duration": 0.499675,
     "end_time": "2023-01-20T07:29:56.981912",
     "exception": false,
     "start_time": "2023-01-20T07:29:56.482237",
     "status": "completed"
    },
    "tags": []
   },
   "outputs": [
    {
     "name": "stderr",
     "output_type": "stream",
     "text": [
      "/opt/conda/lib/python3.7/site-packages/seaborn/_decorators.py:43: FutureWarning: Pass the following variable as a keyword arg: x. From version 0.12, the only valid positional argument will be `data`, and passing other arguments without an explicit keyword will result in an error or misinterpretation.\n",
      "  FutureWarning\n"
     ]
    },
    {
     "data": {
      "text/plain": [
       "<AxesSubplot:xlabel='tag', ylabel='count'>"
      ]
     },
     "execution_count": 23,
     "metadata": {},
     "output_type": "execute_result"
    },
    {
     "data": {
      "image/png": "[encoded data removed]",
      "text/plain": [
       "<Figure size 842.4x595.44 with 1 Axes>"
      ]
     },
     "metadata": {},
     "output_type": "display_data"
    }
   ],
   "source": [
    "\n",
    "sns.countplot(train_data['tag'])"
   ]
  },
  {
   "cell_type": "markdown",
   "id": "598868d9",
   "metadata": {
    "papermill": {
     "duration": 0.009825,
     "end_time": "2023-01-20T07:29:57.001899",
     "exception": false,
     "start_time": "2023-01-20T07:29:56.992074",
     "status": "completed"
    },
    "tags": []
   },
   "source": []
  },
  {
   "cell_type": "markdown",
   "id": "4cd6a01a",
   "metadata": {
    "papermill": {
     "duration": 0.010119,
     "end_time": "2023-01-20T07:29:57.022057",
     "exception": false,
     "start_time": "2023-01-20T07:29:57.011938",
     "status": "completed"
    },
    "tags": []
   },
   "source": [
    "Ignoring nans for according to our assumption, the distribution of different desired entities remain equal and dominated by `unidentified` entities which is normal since not every specific entity is a NER."
   ]
  },
  {
   "cell_type": "code",
   "execution_count": null,
   "id": "975245b3",
   "metadata": {
    "papermill": {
     "duration": 0.01002,
     "end_time": "2023-01-20T07:29:57.042649",
     "exception": false,
     "start_time": "2023-01-20T07:29:57.032629",
     "status": "completed"
    },
    "tags": []
   },
   "outputs": [],
   "source": []
  }
 ],
 "metadata": {
  "kernelspec": {
   "display_name": "Python 3",
   "language": "python",
   "name": "python3"
  },
  "language_info": {
   "codemirror_mode": {
    "name": "ipython",
    "version": 3
   },
   "file_extension": ".py",
   "mimetype": "text/x-python",
   "name": "python",
   "nbconvert_exporter": "python",
   "pygments_lexer": "ipython3",
   "version": "3.7.12"
  },
  "papermill": {
   "default_parameters": {},
   "duration": 12.685768,
   "end_time": "2023-01-20T07:29:57.877397",
   "environment_variables": {},
   "exception": null,
   "input_path": "__notebook__.ipynb",
   "output_path": "__notebook__.ipynb",
   "parameters": {},
   "start_time": "2023-01-20T07:29:45.191629",
   "version": "2.3.4"
  }
 },
 "nbformat": 4,
 "nbformat_minor": 5
}
