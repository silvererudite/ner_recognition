{
 "cells": [
  {
   "cell_type": "code",
   "execution_count": 1,
   "id": "b864c890",
   "metadata": {
    "_cell_guid": "b1076dfc-b9ad-4769-8c92-a6c4dae69d19",
    "_uuid": "8f2839f25d086af736a60e9eeb907d3b93b6e0e5",
    "execution": {
     "iopub.execute_input": "2023-01-20T10:16:56.792232Z",
     "iopub.status.busy": "2023-01-20T10:16:56.791163Z",
     "iopub.status.idle": "2023-01-20T10:16:56.804719Z",
     "shell.execute_reply": "2023-01-20T10:16:56.803802Z"
    },
    "papermill": {
     "duration": 0.029699,
     "end_time": "2023-01-20T10:16:56.807350",
     "exception": false,
     "start_time": "2023-01-20T10:16:56.777651",
     "status": "completed"
    },
    "tags": []
   },
   "outputs": [],
   "source": [
    "# This Python 3 environment comes with many helpful analytics libraries installed\n",
    "# It is defined by the kaggle/python Docker image: https://github.com/kaggle/docker-python\n",
    "# For example, here's several helpful packages to load\n",
    "\n",
    "import numpy as np # linear algebra\n",
    "import pandas as pd # data processing, CSV file I/O (e.g. pd.read_csv)\n",
    "\n",
    "# Input data files are available in the read-only \"../input/\" directory\n",
    "# For example, running this (by clicking run or pressing Shift+Enter) will list all files under the input directory\n",
    "import matplotlib.pyplot as plt\n",
    "import os\n"
   ]
  },
  {
   "cell_type": "code",
   "execution_count": 2,
   "id": "f367812b",
   "metadata": {
    "execution": {
     "iopub.execute_input": "2023-01-20T10:16:56.829876Z",
     "iopub.status.busy": "2023-01-20T10:16:56.829055Z",
     "iopub.status.idle": "2023-01-20T10:16:56.834124Z",
     "shell.execute_reply": "2023-01-20T10:16:56.833306Z"
    },
    "papermill": {
     "duration": 0.018735,
     "end_time": "2023-01-20T10:16:56.836443",
     "exception": false,
     "start_time": "2023-01-20T10:16:56.817708",
     "status": "completed"
    },
    "tags": []
   },
   "outputs": [],
   "source": [
    "DATA_DIR = '/kaggle/input/bangla-ner/data/'"
   ]
  },
  {
   "cell_type": "code",
   "execution_count": 3,
   "id": "e9e4ae9d",
   "metadata": {
    "execution": {
     "iopub.execute_input": "2023-01-20T10:16:56.859460Z",
     "iopub.status.busy": "2023-01-20T10:16:56.858695Z",
     "iopub.status.idle": "2023-01-20T10:16:57.098520Z",
     "shell.execute_reply": "2023-01-20T10:16:57.097215Z"
    },
    "papermill": {
     "duration": 0.255741,
     "end_time": "2023-01-20T10:16:57.101507",
     "exception": false,
     "start_time": "2023-01-20T10:16:56.845766",
     "status": "completed"
    },
    "tags": []
   },
   "outputs": [
    {
     "data": {
      "text/html": [
       "<div>\n",
       "<style scoped>\n",
       "    .dataframe tbody tr th:only-of-type {\n",
       "        vertical-align: middle;\n",
       "    }\n",
       "\n",
       "    .dataframe tbody tr th {\n",
       "        vertical-align: top;\n",
       "    }\n",
       "\n",
       "    .dataframe thead th {\n",
       "        text-align: right;\n",
       "    }\n",
       "</style>\n",
       "<table border=\"1\" class=\"dataframe\">\n",
       "  <thead>\n",
       "    <tr style=\"text-align: right;\">\n",
       "      <th></th>\n",
       "      <th>0</th>\n",
       "      <th>1</th>\n",
       "      <th>2</th>\n",
       "      <th>3</th>\n",
       "    </tr>\n",
       "  </thead>\n",
       "  <tbody>\n",
       "    <tr>\n",
       "      <th>0</th>\n",
       "      <td>তার</td>\n",
       "      <td>_</td>\n",
       "      <td>_</td>\n",
       "      <td>O</td>\n",
       "    </tr>\n",
       "    <tr>\n",
       "      <th>1</th>\n",
       "      <td>মৃত্যুর</td>\n",
       "      <td>_</td>\n",
       "      <td>_</td>\n",
       "      <td>O</td>\n",
       "    </tr>\n",
       "    <tr>\n",
       "      <th>2</th>\n",
       "      <td>দশ</td>\n",
       "      <td>_</td>\n",
       "      <td>_</td>\n",
       "      <td>O</td>\n",
       "    </tr>\n",
       "    <tr>\n",
       "      <th>3</th>\n",
       "      <td>দিন</td>\n",
       "      <td>_</td>\n",
       "      <td>_</td>\n",
       "      <td>O</td>\n",
       "    </tr>\n",
       "    <tr>\n",
       "      <th>4</th>\n",
       "      <td>পর,</td>\n",
       "      <td>_</td>\n",
       "      <td>_</td>\n",
       "      <td>O</td>\n",
       "    </tr>\n",
       "    <tr>\n",
       "      <th>5</th>\n",
       "      <td>১১৫</td>\n",
       "      <td>_</td>\n",
       "      <td>_</td>\n",
       "      <td>O</td>\n",
       "    </tr>\n",
       "    <tr>\n",
       "      <th>6</th>\n",
       "      <td>কৃষ্ণাঙ্গ</td>\n",
       "      <td>_</td>\n",
       "      <td>_</td>\n",
       "      <td>O</td>\n",
       "    </tr>\n",
       "    <tr>\n",
       "      <th>7</th>\n",
       "      <td>উচ্চ</td>\n",
       "      <td>_</td>\n",
       "      <td>_</td>\n",
       "      <td>O</td>\n",
       "    </tr>\n",
       "    <tr>\n",
       "      <th>8</th>\n",
       "      <td>বিদ্যালয়ের</td>\n",
       "      <td>_</td>\n",
       "      <td>_</td>\n",
       "      <td>O</td>\n",
       "    </tr>\n",
       "    <tr>\n",
       "      <th>9</th>\n",
       "      <td>শিক্ষার্থীরা</td>\n",
       "      <td>_</td>\n",
       "      <td>_</td>\n",
       "      <td>O</td>\n",
       "    </tr>\n",
       "    <tr>\n",
       "      <th>10</th>\n",
       "      <td>তার</td>\n",
       "      <td>_</td>\n",
       "      <td>_</td>\n",
       "      <td>O</td>\n",
       "    </tr>\n",
       "    <tr>\n",
       "      <th>11</th>\n",
       "      <td>হত্যার</td>\n",
       "      <td>_</td>\n",
       "      <td>_</td>\n",
       "      <td>O</td>\n",
       "    </tr>\n",
       "    <tr>\n",
       "      <th>12</th>\n",
       "      <td>প্রতিবাদে</td>\n",
       "      <td>_</td>\n",
       "      <td>_</td>\n",
       "      <td>O</td>\n",
       "    </tr>\n",
       "    <tr>\n",
       "      <th>13</th>\n",
       "      <td>ম্যাককম্ব</td>\n",
       "      <td>_</td>\n",
       "      <td>_</td>\n",
       "      <td>B-LOC</td>\n",
       "    </tr>\n",
       "    <tr>\n",
       "      <th>14</th>\n",
       "      <td>এর</td>\n",
       "      <td>_</td>\n",
       "      <td>_</td>\n",
       "      <td>O</td>\n",
       "    </tr>\n",
       "    <tr>\n",
       "      <th>15</th>\n",
       "      <td>মাধ্যমে</td>\n",
       "      <td>_</td>\n",
       "      <td>_</td>\n",
       "      <td>O</td>\n",
       "    </tr>\n",
       "    <tr>\n",
       "      <th>16</th>\n",
       "      <td>মিছিল</td>\n",
       "      <td>_</td>\n",
       "      <td>_</td>\n",
       "      <td>O</td>\n",
       "    </tr>\n",
       "    <tr>\n",
       "      <th>17</th>\n",
       "      <td>করেছে।</td>\n",
       "      <td>_</td>\n",
       "      <td>_</td>\n",
       "      <td>O</td>\n",
       "    </tr>\n",
       "    <tr>\n",
       "      <th>18</th>\n",
       "      <td>NaN</td>\n",
       "      <td>NaN</td>\n",
       "      <td>NaN</td>\n",
       "      <td>NaN</td>\n",
       "    </tr>\n",
       "    <tr>\n",
       "      <th>19</th>\n",
       "      <td>ব্রাংম্যান</td>\n",
       "      <td>_</td>\n",
       "      <td>_</td>\n",
       "      <td>O</td>\n",
       "    </tr>\n",
       "  </tbody>\n",
       "</table>\n",
       "</div>"
      ],
      "text/plain": [
       "               0    1    2      3\n",
       "0            তার    _    _      O\n",
       "1        মৃত্যুর    _    _      O\n",
       "2             দশ    _    _      O\n",
       "3            দিন    _    _      O\n",
       "4            পর,    _    _      O\n",
       "5            ১১৫    _    _      O\n",
       "6      কৃষ্ণাঙ্গ    _    _      O\n",
       "7           উচ্চ    _    _      O\n",
       "8    বিদ্যালয়ের    _    _      O\n",
       "9   শিক্ষার্থীরা    _    _      O\n",
       "10           তার    _    _      O\n",
       "11        হত্যার    _    _      O\n",
       "12     প্রতিবাদে    _    _      O\n",
       "13     ম্যাককম্ব    _    _  B-LOC\n",
       "14            এর    _    _      O\n",
       "15       মাধ্যমে    _    _      O\n",
       "16         মিছিল    _    _      O\n",
       "17        করেছে।    _    _      O\n",
       "18           NaN  NaN  NaN    NaN\n",
       "19    ব্রাংম্যান    _    _      O"
      ]
     },
     "execution_count": 3,
     "metadata": {},
     "output_type": "execute_result"
    }
   ],
   "source": [
    "train_data = pd.read_csv(DATA_DIR+'train.txt', sep=\" \", header=None, dtype='str', skip_blank_lines=False)\n",
    "train_data.head(20)"
   ]
  },
  {
   "cell_type": "markdown",
   "id": "aa26a6f8",
   "metadata": {
    "papermill": {
     "duration": 0.0099,
     "end_time": "2023-01-20T10:16:57.121484",
     "exception": false,
     "start_time": "2023-01-20T10:16:57.111584",
     "status": "completed"
    },
    "tags": []
   },
   "source": [
    "* Note: we will use NaNs to represent end of sequence, we need so build sequential models later"
   ]
  },
  {
   "cell_type": "markdown",
   "id": "4b7ea77c",
   "metadata": {
    "papermill": {
     "duration": 0.009468,
     "end_time": "2023-01-20T10:16:57.140757",
     "exception": false,
     "start_time": "2023-01-20T10:16:57.131289",
     "status": "completed"
    },
    "tags": []
   },
   "source": [
    "# Exploratory analysis\n",
    "Intentions\n",
    "- find out different entities found in the training set\n",
    "- find out what kind of tags exist in the training set\n",
    "- something to do about the entities that exist in training but not in the test/valid set "
   ]
  },
  {
   "cell_type": "code",
   "execution_count": 4,
   "id": "b82dd20c",
   "metadata": {
    "execution": {
     "iopub.execute_input": "2023-01-20T10:16:57.163147Z",
     "iopub.status.busy": "2023-01-20T10:16:57.162258Z",
     "iopub.status.idle": "2023-01-20T10:16:57.167968Z",
     "shell.execute_reply": "2023-01-20T10:16:57.167167Z"
    },
    "papermill": {
     "duration": 0.019922,
     "end_time": "2023-01-20T10:16:57.170448",
     "exception": false,
     "start_time": "2023-01-20T10:16:57.150526",
     "status": "completed"
    },
    "tags": []
   },
   "outputs": [],
   "source": [
    "train_data.columns = ['entity', 'space1','space2', 'tag']"
   ]
  },
  {
   "cell_type": "code",
   "execution_count": 5,
   "id": "73c998e3",
   "metadata": {
    "execution": {
     "iopub.execute_input": "2023-01-20T10:16:57.192421Z",
     "iopub.status.busy": "2023-01-20T10:16:57.191610Z",
     "iopub.status.idle": "2023-01-20T10:16:57.207672Z",
     "shell.execute_reply": "2023-01-20T10:16:57.206528Z"
    },
    "papermill": {
     "duration": 0.030049,
     "end_time": "2023-01-20T10:16:57.210244",
     "exception": false,
     "start_time": "2023-01-20T10:16:57.180195",
     "status": "completed"
    },
    "tags": []
   },
   "outputs": [],
   "source": [
    "train_data.drop(['space1', 'space2'], axis=1, inplace=True)"
   ]
  },
  {
   "cell_type": "code",
   "execution_count": 6,
   "id": "4c9881d2",
   "metadata": {
    "execution": {
     "iopub.execute_input": "2023-01-20T10:16:57.232619Z",
     "iopub.status.busy": "2023-01-20T10:16:57.231897Z",
     "iopub.status.idle": "2023-01-20T10:16:57.242740Z",
     "shell.execute_reply": "2023-01-20T10:16:57.241540Z"
    },
    "papermill": {
     "duration": 0.025135,
     "end_time": "2023-01-20T10:16:57.245126",
     "exception": false,
     "start_time": "2023-01-20T10:16:57.219991",
     "status": "completed"
    },
    "tags": []
   },
   "outputs": [
    {
     "data": {
      "text/html": [
       "<div>\n",
       "<style scoped>\n",
       "    .dataframe tbody tr th:only-of-type {\n",
       "        vertical-align: middle;\n",
       "    }\n",
       "\n",
       "    .dataframe tbody tr th {\n",
       "        vertical-align: top;\n",
       "    }\n",
       "\n",
       "    .dataframe thead th {\n",
       "        text-align: right;\n",
       "    }\n",
       "</style>\n",
       "<table border=\"1\" class=\"dataframe\">\n",
       "  <thead>\n",
       "    <tr style=\"text-align: right;\">\n",
       "      <th></th>\n",
       "      <th>entity</th>\n",
       "      <th>tag</th>\n",
       "    </tr>\n",
       "  </thead>\n",
       "  <tbody>\n",
       "    <tr>\n",
       "      <th>0</th>\n",
       "      <td>তার</td>\n",
       "      <td>O</td>\n",
       "    </tr>\n",
       "    <tr>\n",
       "      <th>1</th>\n",
       "      <td>মৃত্যুর</td>\n",
       "      <td>O</td>\n",
       "    </tr>\n",
       "    <tr>\n",
       "      <th>2</th>\n",
       "      <td>দশ</td>\n",
       "      <td>O</td>\n",
       "    </tr>\n",
       "    <tr>\n",
       "      <th>3</th>\n",
       "      <td>দিন</td>\n",
       "      <td>O</td>\n",
       "    </tr>\n",
       "    <tr>\n",
       "      <th>4</th>\n",
       "      <td>পর,</td>\n",
       "      <td>O</td>\n",
       "    </tr>\n",
       "  </tbody>\n",
       "</table>\n",
       "</div>"
      ],
      "text/plain": [
       "    entity tag\n",
       "0      তার   O\n",
       "1  মৃত্যুর   O\n",
       "2       দশ   O\n",
       "3      দিন   O\n",
       "4      পর,   O"
      ]
     },
     "execution_count": 6,
     "metadata": {},
     "output_type": "execute_result"
    }
   ],
   "source": [
    "train_data.head()"
   ]
  },
  {
   "cell_type": "code",
   "execution_count": 7,
   "id": "a4c2b1cd",
   "metadata": {
    "execution": {
     "iopub.execute_input": "2023-01-20T10:16:57.267408Z",
     "iopub.status.busy": "2023-01-20T10:16:57.266683Z",
     "iopub.status.idle": "2023-01-20T10:16:57.274558Z",
     "shell.execute_reply": "2023-01-20T10:16:57.273223Z"
    },
    "papermill": {
     "duration": 0.022109,
     "end_time": "2023-01-20T10:16:57.277075",
     "exception": false,
     "start_time": "2023-01-20T10:16:57.254966",
     "status": "completed"
    },
    "tags": []
   },
   "outputs": [
    {
     "data": {
      "text/plain": [
       "(184086, 2)"
      ]
     },
     "execution_count": 7,
     "metadata": {},
     "output_type": "execute_result"
    }
   ],
   "source": [
    "train_data.shape"
   ]
  },
  {
   "cell_type": "code",
   "execution_count": 8,
   "id": "66f7df80",
   "metadata": {
    "execution": {
     "iopub.execute_input": "2023-01-20T10:16:57.300222Z",
     "iopub.status.busy": "2023-01-20T10:16:57.299771Z",
     "iopub.status.idle": "2023-01-20T10:16:57.330344Z",
     "shell.execute_reply": "2023-01-20T10:16:57.329075Z"
    },
    "papermill": {
     "duration": 0.044957,
     "end_time": "2023-01-20T10:16:57.332834",
     "exception": false,
     "start_time": "2023-01-20T10:16:57.287877",
     "status": "completed"
    },
    "tags": []
   },
   "outputs": [
    {
     "data": {
      "text/plain": [
       "array(['তার', 'মৃত্যুর', 'দশ', ..., 'নভেম্বরের', 'আসবেন', 'দরগৌদ'],\n",
       "      dtype=object)"
      ]
     },
     "execution_count": 8,
     "metadata": {},
     "output_type": "execute_result"
    }
   ],
   "source": [
    "train_data['entity'].unique()"
   ]
  },
  {
   "cell_type": "code",
   "execution_count": 9,
   "id": "9a3eb4ca",
   "metadata": {
    "execution": {
     "iopub.execute_input": "2023-01-20T10:16:57.354544Z",
     "iopub.status.busy": "2023-01-20T10:16:57.354149Z",
     "iopub.status.idle": "2023-01-20T10:16:57.378532Z",
     "shell.execute_reply": "2023-01-20T10:16:57.377431Z"
    },
    "papermill": {
     "duration": 0.038091,
     "end_time": "2023-01-20T10:16:57.380823",
     "exception": false,
     "start_time": "2023-01-20T10:16:57.342732",
     "status": "completed"
    },
    "tags": []
   },
   "outputs": [
    {
     "data": {
      "text/plain": [
       "30798"
      ]
     },
     "execution_count": 9,
     "metadata": {},
     "output_type": "execute_result"
    }
   ],
   "source": [
    "len(train_data['entity'].unique())"
   ]
  },
  {
   "cell_type": "code",
   "execution_count": 10,
   "id": "8c74c6ed",
   "metadata": {
    "execution": {
     "iopub.execute_input": "2023-01-20T10:16:57.403311Z",
     "iopub.status.busy": "2023-01-20T10:16:57.402843Z",
     "iopub.status.idle": "2023-01-20T10:16:57.418929Z",
     "shell.execute_reply": "2023-01-20T10:16:57.417765Z"
    },
    "papermill": {
     "duration": 0.030317,
     "end_time": "2023-01-20T10:16:57.421422",
     "exception": false,
     "start_time": "2023-01-20T10:16:57.391105",
     "status": "completed"
    },
    "tags": []
   },
   "outputs": [
    {
     "data": {
      "text/plain": [
       "array(['O', 'B-LOC', nan, 'B-GRP', 'I-GRP', 'B-PROD', 'B-CW', 'I-CW',\n",
       "       'B-CORP', 'B-PER', 'I-PER', 'I-CORP', 'I-PROD', 'I-LOC'],\n",
       "      dtype=object)"
      ]
     },
     "execution_count": 10,
     "metadata": {},
     "output_type": "execute_result"
    }
   ],
   "source": [
    "train_data['tag'].unique()"
   ]
  },
  {
   "cell_type": "code",
   "execution_count": 11,
   "id": "fdcdf23c",
   "metadata": {
    "execution": {
     "iopub.execute_input": "2023-01-20T10:16:57.446327Z",
     "iopub.status.busy": "2023-01-20T10:16:57.444947Z",
     "iopub.status.idle": "2023-01-20T10:16:57.459612Z",
     "shell.execute_reply": "2023-01-20T10:16:57.458486Z"
    },
    "papermill": {
     "duration": 0.029564,
     "end_time": "2023-01-20T10:16:57.461903",
     "exception": false,
     "start_time": "2023-01-20T10:16:57.432339",
     "status": "completed"
    },
    "tags": []
   },
   "outputs": [
    {
     "data": {
      "text/plain": [
       "14"
      ]
     },
     "execution_count": 11,
     "metadata": {},
     "output_type": "execute_result"
    }
   ],
   "source": [
    "len(train_data['tag'].unique())"
   ]
  },
  {
   "cell_type": "markdown",
   "id": "765e5fcc",
   "metadata": {
    "papermill": {
     "duration": 0.010654,
     "end_time": "2023-01-20T10:16:57.483029",
     "exception": false,
     "start_time": "2023-01-20T10:16:57.472375",
     "status": "completed"
    },
    "tags": []
   },
   "source": [
    "## Check how many sequences are there"
   ]
  },
  {
   "cell_type": "code",
   "execution_count": 12,
   "id": "b39111b4",
   "metadata": {
    "execution": {
     "iopub.execute_input": "2023-01-20T10:16:57.505840Z",
     "iopub.status.busy": "2023-01-20T10:16:57.505434Z",
     "iopub.status.idle": "2023-01-20T10:16:57.534920Z",
     "shell.execute_reply": "2023-01-20T10:16:57.533769Z"
    },
    "papermill": {
     "duration": 0.043831,
     "end_time": "2023-01-20T10:16:57.537322",
     "exception": false,
     "start_time": "2023-01-20T10:16:57.493491",
     "status": "completed"
    },
    "tags": []
   },
   "outputs": [
    {
     "data": {
      "text/plain": [
       "entity    13592\n",
       "tag       13592\n",
       "dtype: int64"
      ]
     },
     "execution_count": 12,
     "metadata": {},
     "output_type": "execute_result"
    }
   ],
   "source": [
    "train_data.isnull().sum().sort_values(ascending=False)"
   ]
  },
  {
   "cell_type": "code",
   "execution_count": 13,
   "id": "7f315fa4",
   "metadata": {
    "execution": {
     "iopub.execute_input": "2023-01-20T10:16:57.560946Z",
     "iopub.status.busy": "2023-01-20T10:16:57.560235Z",
     "iopub.status.idle": "2023-01-20T10:16:57.593714Z",
     "shell.execute_reply": "2023-01-20T10:16:57.591373Z"
    },
    "papermill": {
     "duration": 0.049187,
     "end_time": "2023-01-20T10:16:57.597250",
     "exception": false,
     "start_time": "2023-01-20T10:16:57.548063",
     "status": "completed"
    },
    "tags": []
   },
   "outputs": [
    {
     "name": "stdout",
     "output_type": "stream",
     "text": [
      "<class 'pandas.core.frame.DataFrame'>\n",
      "RangeIndex: 184086 entries, 0 to 184085\n",
      "Data columns (total 2 columns):\n",
      " #   Column  Non-Null Count   Dtype \n",
      "---  ------  --------------   ----- \n",
      " 0   entity  170494 non-null  object\n",
      " 1   tag     170494 non-null  object\n",
      "dtypes: object(2)\n",
      "memory usage: 2.8+ MB\n"
     ]
    }
   ],
   "source": [
    "train_data.info()"
   ]
  },
  {
   "cell_type": "markdown",
   "id": "0e3eeb95",
   "metadata": {
    "papermill": {
     "duration": 0.010413,
     "end_time": "2023-01-20T10:16:57.618503",
     "exception": false,
     "start_time": "2023-01-20T10:16:57.608090",
     "status": "completed"
    },
    "tags": []
   },
   "source": [
    "# Convert data type for ease of pre-processing"
   ]
  },
  {
   "cell_type": "code",
   "execution_count": 14,
   "id": "957137ea",
   "metadata": {
    "execution": {
     "iopub.execute_input": "2023-01-20T10:16:57.642542Z",
     "iopub.status.busy": "2023-01-20T10:16:57.641063Z",
     "iopub.status.idle": "2023-01-20T10:16:57.672810Z",
     "shell.execute_reply": "2023-01-20T10:16:57.671632Z"
    },
    "papermill": {
     "duration": 0.046488,
     "end_time": "2023-01-20T10:16:57.675494",
     "exception": false,
     "start_time": "2023-01-20T10:16:57.629006",
     "status": "completed"
    },
    "tags": []
   },
   "outputs": [],
   "source": [
    "train_data['entity'] = train_data['entity'].astype(str)\n",
    "train_data['tag'] = train_data['tag'].astype(str)\n",
    "        "
   ]
  },
  {
   "cell_type": "markdown",
   "id": "411d3907",
   "metadata": {
    "papermill": {
     "duration": 0.010376,
     "end_time": "2023-01-20T10:16:57.696903",
     "exception": false,
     "start_time": "2023-01-20T10:16:57.686527",
     "status": "completed"
    },
    "tags": []
   },
   "source": [
    "# Check for punctuations and other not useful characters"
   ]
  },
  {
   "cell_type": "code",
   "execution_count": 15,
   "id": "35cbb793",
   "metadata": {
    "execution": {
     "iopub.execute_input": "2023-01-20T10:16:57.719818Z",
     "iopub.status.busy": "2023-01-20T10:16:57.719389Z",
     "iopub.status.idle": "2023-01-20T10:16:57.724935Z",
     "shell.execute_reply": "2023-01-20T10:16:57.723736Z"
    },
    "papermill": {
     "duration": 0.019953,
     "end_time": "2023-01-20T10:16:57.727457",
     "exception": false,
     "start_time": "2023-01-20T10:16:57.707504",
     "status": "completed"
    },
    "tags": []
   },
   "outputs": [],
   "source": [
    "non_alpha = set('''```\u0012\u0010\u0002\b`\u0007\b£|¢|\u0007Ñ+-*/=EROero৳•।!()-[]{};:'\"“\\’,<>./?@#$%^&*_~‘—॥”‰🤣⚽️✌�￰৷￰''')\n",
    "#train_data['entity'].values"
   ]
  },
  {
   "cell_type": "code",
   "execution_count": 16,
   "id": "25d53aa1",
   "metadata": {
    "execution": {
     "iopub.execute_input": "2023-01-20T10:16:57.750710Z",
     "iopub.status.busy": "2023-01-20T10:16:57.750309Z",
     "iopub.status.idle": "2023-01-20T10:16:57.782580Z",
     "shell.execute_reply": "2023-01-20T10:16:57.781179Z"
    },
    "papermill": {
     "duration": 0.047081,
     "end_time": "2023-01-20T10:16:57.785262",
     "exception": false,
     "start_time": "2023-01-20T10:16:57.738181",
     "status": "completed"
    },
    "tags": []
   },
   "outputs": [],
   "source": [
    "found_nonalphas = set()\n",
    "for ent in train_data['entity'].values:\n",
    "    if ent in non_alpha:\n",
    "        found_nonalphas.add(ent)\n",
    "        "
   ]
  },
  {
   "cell_type": "code",
   "execution_count": 17,
   "id": "d7994afd",
   "metadata": {
    "execution": {
     "iopub.execute_input": "2023-01-20T10:16:57.808467Z",
     "iopub.status.busy": "2023-01-20T10:16:57.808041Z",
     "iopub.status.idle": "2023-01-20T10:16:57.815963Z",
     "shell.execute_reply": "2023-01-20T10:16:57.814689Z"
    },
    "papermill": {
     "duration": 0.022243,
     "end_time": "2023-01-20T10:16:57.818300",
     "exception": false,
     "start_time": "2023-01-20T10:16:57.796057",
     "status": "completed"
    },
    "tags": []
   },
   "outputs": [
    {
     "data": {
      "text/plain": [
       "{'!',\n",
       " '#',\n",
       " '$',\n",
       " '%',\n",
       " '&',\n",
       " '(',\n",
       " ')',\n",
       " '*',\n",
       " '+',\n",
       " ',',\n",
       " '-',\n",
       " '.',\n",
       " '/',\n",
       " ':',\n",
       " ';',\n",
       " '<',\n",
       " '=',\n",
       " '?',\n",
       " '@',\n",
       " ']',\n",
       " '|',\n",
       " '£',\n",
       " '।',\n",
       " '’',\n",
       " '”'}"
      ]
     },
     "execution_count": 17,
     "metadata": {},
     "output_type": "execute_result"
    }
   ],
   "source": [
    "found_nonalphas"
   ]
  },
  {
   "cell_type": "markdown",
   "id": "2f0844cc",
   "metadata": {
    "papermill": {
     "duration": 0.010463,
     "end_time": "2023-01-20T10:16:57.839444",
     "exception": false,
     "start_time": "2023-01-20T10:16:57.828981",
     "status": "completed"
    },
    "tags": []
   },
   "source": [
    "Since lots of punctuations and other chars are found we need to clean the entites to get rid of them\n",
    "doing so would increase our chosen method's learning abilities without distracting the model on useless items "
   ]
  },
  {
   "cell_type": "code",
   "execution_count": 18,
   "id": "23d08c38",
   "metadata": {
    "execution": {
     "iopub.execute_input": "2023-01-20T10:16:57.863506Z",
     "iopub.status.busy": "2023-01-20T10:16:57.862712Z",
     "iopub.status.idle": "2023-01-20T10:16:57.869348Z",
     "shell.execute_reply": "2023-01-20T10:16:57.868192Z"
    },
    "papermill": {
     "duration": 0.02154,
     "end_time": "2023-01-20T10:16:57.871819",
     "exception": false,
     "start_time": "2023-01-20T10:16:57.850279",
     "status": "completed"
    },
    "tags": []
   },
   "outputs": [],
   "source": [
    "def clean_entity(text):\n",
    "    found_nonalphas = set()\n",
    "    if text:\n",
    "        ans = ''\n",
    "        for ent in text:\n",
    "            if ent not in non_alpha:\n",
    "                ans += ent\n",
    "        return ans\n",
    "    else:\n",
    "        return np.nan"
   ]
  },
  {
   "cell_type": "code",
   "execution_count": 19,
   "id": "fff7815f",
   "metadata": {
    "execution": {
     "iopub.execute_input": "2023-01-20T10:16:57.896409Z",
     "iopub.status.busy": "2023-01-20T10:16:57.895258Z",
     "iopub.status.idle": "2023-01-20T10:16:58.216942Z",
     "shell.execute_reply": "2023-01-20T10:16:58.215643Z"
    },
    "papermill": {
     "duration": 0.337203,
     "end_time": "2023-01-20T10:16:58.219999",
     "exception": false,
     "start_time": "2023-01-20T10:16:57.882796",
     "status": "completed"
    },
    "tags": []
   },
   "outputs": [],
   "source": [
    "train_data['entity'] = train_data['entity'].apply(clean_entity)"
   ]
  },
  {
   "cell_type": "code",
   "execution_count": 20,
   "id": "901091ef",
   "metadata": {
    "execution": {
     "iopub.execute_input": "2023-01-20T10:16:58.245950Z",
     "iopub.status.busy": "2023-01-20T10:16:58.245464Z",
     "iopub.status.idle": "2023-01-20T10:16:58.257559Z",
     "shell.execute_reply": "2023-01-20T10:16:58.256345Z"
    },
    "papermill": {
     "duration": 0.026761,
     "end_time": "2023-01-20T10:16:58.259916",
     "exception": false,
     "start_time": "2023-01-20T10:16:58.233155",
     "status": "completed"
    },
    "tags": []
   },
   "outputs": [
    {
     "data": {
      "text/html": [
       "<div>\n",
       "<style scoped>\n",
       "    .dataframe tbody tr th:only-of-type {\n",
       "        vertical-align: middle;\n",
       "    }\n",
       "\n",
       "    .dataframe tbody tr th {\n",
       "        vertical-align: top;\n",
       "    }\n",
       "\n",
       "    .dataframe thead th {\n",
       "        text-align: right;\n",
       "    }\n",
       "</style>\n",
       "<table border=\"1\" class=\"dataframe\">\n",
       "  <thead>\n",
       "    <tr style=\"text-align: right;\">\n",
       "      <th></th>\n",
       "      <th>entity</th>\n",
       "      <th>tag</th>\n",
       "    </tr>\n",
       "  </thead>\n",
       "  <tbody>\n",
       "    <tr>\n",
       "      <th>0</th>\n",
       "      <td>তার</td>\n",
       "      <td>O</td>\n",
       "    </tr>\n",
       "    <tr>\n",
       "      <th>1</th>\n",
       "      <td>মৃত্যুর</td>\n",
       "      <td>O</td>\n",
       "    </tr>\n",
       "    <tr>\n",
       "      <th>2</th>\n",
       "      <td>দশ</td>\n",
       "      <td>O</td>\n",
       "    </tr>\n",
       "    <tr>\n",
       "      <th>3</th>\n",
       "      <td>দিন</td>\n",
       "      <td>O</td>\n",
       "    </tr>\n",
       "    <tr>\n",
       "      <th>4</th>\n",
       "      <td>পর</td>\n",
       "      <td>O</td>\n",
       "    </tr>\n",
       "    <tr>\n",
       "      <th>5</th>\n",
       "      <td>১১৫</td>\n",
       "      <td>O</td>\n",
       "    </tr>\n",
       "    <tr>\n",
       "      <th>6</th>\n",
       "      <td>কৃষ্ণাঙ্গ</td>\n",
       "      <td>O</td>\n",
       "    </tr>\n",
       "    <tr>\n",
       "      <th>7</th>\n",
       "      <td>উচ্চ</td>\n",
       "      <td>O</td>\n",
       "    </tr>\n",
       "    <tr>\n",
       "      <th>8</th>\n",
       "      <td>বিদ্যালয়ের</td>\n",
       "      <td>O</td>\n",
       "    </tr>\n",
       "    <tr>\n",
       "      <th>9</th>\n",
       "      <td>শিক্ষার্থীরা</td>\n",
       "      <td>O</td>\n",
       "    </tr>\n",
       "  </tbody>\n",
       "</table>\n",
       "</div>"
      ],
      "text/plain": [
       "         entity tag\n",
       "0           তার   O\n",
       "1       মৃত্যুর   O\n",
       "2            দশ   O\n",
       "3           দিন   O\n",
       "4            পর   O\n",
       "5           ১১৫   O\n",
       "6     কৃষ্ণাঙ্গ   O\n",
       "7          উচ্চ   O\n",
       "8   বিদ্যালয়ের   O\n",
       "9  শিক্ষার্থীরা   O"
      ]
     },
     "execution_count": 20,
     "metadata": {},
     "output_type": "execute_result"
    }
   ],
   "source": [
    "train_data.head(10)"
   ]
  },
  {
   "cell_type": "markdown",
   "id": "522ce464",
   "metadata": {
    "papermill": {
     "duration": 0.010605,
     "end_time": "2023-01-20T10:16:58.281452",
     "exception": false,
     "start_time": "2023-01-20T10:16:58.270847",
     "status": "completed"
    },
    "tags": []
   },
   "source": [
    "# Check the distribution of tags\n",
    "- we determine which tags appear the most overall and in individual sequences\n",
    "- identify the underrepresented tags"
   ]
  },
  {
   "cell_type": "code",
   "execution_count": 21,
   "id": "a04f503a",
   "metadata": {
    "execution": {
     "iopub.execute_input": "2023-01-20T10:16:58.305502Z",
     "iopub.status.busy": "2023-01-20T10:16:58.304796Z",
     "iopub.status.idle": "2023-01-20T10:16:59.442740Z",
     "shell.execute_reply": "2023-01-20T10:16:59.441601Z"
    },
    "papermill": {
     "duration": 1.152907,
     "end_time": "2023-01-20T10:16:59.445364",
     "exception": false,
     "start_time": "2023-01-20T10:16:58.292457",
     "status": "completed"
    },
    "tags": []
   },
   "outputs": [],
   "source": [
    "import seaborn as sns\n",
    "sns.set(rc={'figure.figsize':(11.7,8.27)})"
   ]
  },
  {
   "cell_type": "markdown",
   "id": "8c48aae9",
   "metadata": {
    "papermill": {
     "duration": 0.010801,
     "end_time": "2023-01-20T10:16:59.467662",
     "exception": false,
     "start_time": "2023-01-20T10:16:59.456861",
     "status": "completed"
    },
    "tags": []
   },
   "source": [
    "let's check first few sequences"
   ]
  },
  {
   "cell_type": "code",
   "execution_count": 22,
   "id": "a0b5240b",
   "metadata": {
    "execution": {
     "iopub.execute_input": "2023-01-20T10:16:59.491406Z",
     "iopub.status.busy": "2023-01-20T10:16:59.490985Z",
     "iopub.status.idle": "2023-01-20T10:16:59.837178Z",
     "shell.execute_reply": "2023-01-20T10:16:59.836333Z"
    },
    "papermill": {
     "duration": 0.360752,
     "end_time": "2023-01-20T10:16:59.839435",
     "exception": false,
     "start_time": "2023-01-20T10:16:59.478683",
     "status": "completed"
    },
    "tags": []
   },
   "outputs": [
    {
     "name": "stderr",
     "output_type": "stream",
     "text": [
      "/opt/conda/lib/python3.7/site-packages/seaborn/_decorators.py:43: FutureWarning: Pass the following variable as a keyword arg: x. From version 0.12, the only valid positional argument will be `data`, and passing other arguments without an explicit keyword will result in an error or misinterpretation.\n",
      "  FutureWarning\n"
     ]
    },
    {
     "data": {
      "text/plain": [
       "<AxesSubplot:xlabel='tag', ylabel='count'>"
      ]
     },
     "execution_count": 22,
     "metadata": {},
     "output_type": "execute_result"
    },
    {
     "data": {
      "image/png": "[encoded data removed]",
      "text/plain": [
       "<Figure size 842.4x595.44 with 1 Axes>"
      ]
     },
     "metadata": {},
     "output_type": "display_data"
    }
   ],
   "source": [
    "sns.countplot(train_data.loc[:100,'tag'])"
   ]
  },
  {
   "cell_type": "code",
   "execution_count": 23,
   "id": "c376ef79",
   "metadata": {
    "execution": {
     "iopub.execute_input": "2023-01-20T10:16:59.864974Z",
     "iopub.status.busy": "2023-01-20T10:16:59.863895Z",
     "iopub.status.idle": "2023-01-20T10:17:00.335904Z",
     "shell.execute_reply": "2023-01-20T10:17:00.334516Z"
    },
    "papermill": {
     "duration": 0.487559,
     "end_time": "2023-01-20T10:17:00.338641",
     "exception": false,
     "start_time": "2023-01-20T10:16:59.851082",
     "status": "completed"
    },
    "tags": []
   },
   "outputs": [
    {
     "name": "stderr",
     "output_type": "stream",
     "text": [
      "/opt/conda/lib/python3.7/site-packages/seaborn/_decorators.py:43: FutureWarning: Pass the following variable as a keyword arg: x. From version 0.12, the only valid positional argument will be `data`, and passing other arguments without an explicit keyword will result in an error or misinterpretation.\n",
      "  FutureWarning\n"
     ]
    },
    {
     "data": {
      "text/plain": [
       "<AxesSubplot:xlabel='tag', ylabel='count'>"
      ]
     },
     "execution_count": 23,
     "metadata": {},
     "output_type": "execute_result"
    },
    {
     "data": {
      "image/png": "[encoded data removed]",
      "text/plain": [
       "<Figure size 842.4x595.44 with 1 Axes>"
      ]
     },
     "metadata": {},
     "output_type": "display_data"
    }
   ],
   "source": [
    "\n",
    "sns.countplot(train_data['tag'])"
   ]
  },
  {
   "cell_type": "markdown",
   "id": "8f4be5ac",
   "metadata": {
    "papermill": {
     "duration": 0.011914,
     "end_time": "2023-01-20T10:17:00.362870",
     "exception": false,
     "start_time": "2023-01-20T10:17:00.350956",
     "status": "completed"
    },
    "tags": []
   },
   "source": []
  },
  {
   "cell_type": "markdown",
   "id": "c8bd7ae7",
   "metadata": {
    "papermill": {
     "duration": 0.01191,
     "end_time": "2023-01-20T10:17:00.387074",
     "exception": false,
     "start_time": "2023-01-20T10:17:00.375164",
     "status": "completed"
    },
    "tags": []
   },
   "source": [
    "Ignoring nans for according to our assumption, the distribution of different desired entities remain equal and dominated by `unidentified` entities which is normal since not every specific entity is a NER."
   ]
  },
  {
   "cell_type": "code",
   "execution_count": 24,
   "id": "3db0b7b0",
   "metadata": {
    "execution": {
     "iopub.execute_input": "2023-01-20T10:17:00.413195Z",
     "iopub.status.busy": "2023-01-20T10:17:00.412742Z",
     "iopub.status.idle": "2023-01-20T10:17:00.616933Z",
     "shell.execute_reply": "2023-01-20T10:17:00.615425Z"
    },
    "papermill": {
     "duration": 0.220852,
     "end_time": "2023-01-20T10:17:00.620055",
     "exception": false,
     "start_time": "2023-01-20T10:17:00.399203",
     "status": "completed"
    },
    "tags": []
   },
   "outputs": [
    {
     "data": {
      "text/html": [
       "<div>\n",
       "<style scoped>\n",
       "    .dataframe tbody tr th:only-of-type {\n",
       "        vertical-align: middle;\n",
       "    }\n",
       "\n",
       "    .dataframe tbody tr th {\n",
       "        vertical-align: top;\n",
       "    }\n",
       "\n",
       "    .dataframe thead th {\n",
       "        text-align: right;\n",
       "    }\n",
       "</style>\n",
       "<table border=\"1\" class=\"dataframe\">\n",
       "  <thead>\n",
       "    <tr style=\"text-align: right;\">\n",
       "      <th></th>\n",
       "      <th>0</th>\n",
       "      <th>1</th>\n",
       "    </tr>\n",
       "  </thead>\n",
       "  <tbody>\n",
       "    <tr>\n",
       "      <th>0</th>\n",
       "      <td>অ</td>\n",
       "      <td>adjective</td>\n",
       "    </tr>\n",
       "    <tr>\n",
       "      <th>1</th>\n",
       "      <td>অআ</td>\n",
       "      <td>noun</td>\n",
       "    </tr>\n",
       "    <tr>\n",
       "      <th>2</th>\n",
       "      <td>অই</td>\n",
       "      <td>noun</td>\n",
       "    </tr>\n",
       "    <tr>\n",
       "      <th>3</th>\n",
       "      <td>অইছে</td>\n",
       "      <td>adjective</td>\n",
       "    </tr>\n",
       "    <tr>\n",
       "      <th>4</th>\n",
       "      <td>অইছন</td>\n",
       "      <td>adjective</td>\n",
       "    </tr>\n",
       "  </tbody>\n",
       "</table>\n",
       "</div>"
      ],
      "text/plain": [
       "      0          1\n",
       "0     অ  adjective\n",
       "1    অআ       noun\n",
       "2    অই       noun\n",
       "3  অইছে  adjective\n",
       "4  অইছন  adjective"
      ]
     },
     "execution_count": 24,
     "metadata": {},
     "output_type": "execute_result"
    }
   ],
   "source": [
    "pos_dataset = pd.read_csv('/kaggle/input/bangla-parts-of-speechpos-tag/postag.txt', sep=\" \", header=None, dtype='str')\n",
    "pos_dataset.head()"
   ]
  },
  {
   "cell_type": "code",
   "execution_count": 25,
   "id": "5e6157c6",
   "metadata": {
    "execution": {
     "iopub.execute_input": "2023-01-20T10:17:00.646969Z",
     "iopub.status.busy": "2023-01-20T10:17:00.646559Z",
     "iopub.status.idle": "2023-01-20T10:17:00.712788Z",
     "shell.execute_reply": "2023-01-20T10:17:00.711670Z"
    },
    "papermill": {
     "duration": 0.083131,
     "end_time": "2023-01-20T10:17:00.715774",
     "exception": false,
     "start_time": "2023-01-20T10:17:00.632643",
     "status": "completed"
    },
    "tags": []
   },
   "outputs": [],
   "source": [
    "pos_dict = dict(zip(pos_dataset[0], pos_dataset[1]))"
   ]
  },
  {
   "cell_type": "code",
   "execution_count": 26,
   "id": "97e82cd8",
   "metadata": {
    "execution": {
     "iopub.execute_input": "2023-01-20T10:17:00.742710Z",
     "iopub.status.busy": "2023-01-20T10:17:00.742309Z",
     "iopub.status.idle": "2023-01-20T10:17:00.746778Z",
     "shell.execute_reply": "2023-01-20T10:17:00.745755Z"
    },
    "papermill": {
     "duration": 0.020567,
     "end_time": "2023-01-20T10:17:00.748920",
     "exception": false,
     "start_time": "2023-01-20T10:17:00.728353",
     "status": "completed"
    },
    "tags": []
   },
   "outputs": [],
   "source": [
    "def add_pos(ent):\n",
    "    return pos_dict.get(ent, 'UNK')"
   ]
  },
  {
   "cell_type": "markdown",
   "id": "e9b8ed80",
   "metadata": {
    "papermill": {
     "duration": 0.012176,
     "end_time": "2023-01-20T10:17:00.774077",
     "exception": false,
     "start_time": "2023-01-20T10:17:00.761901",
     "status": "completed"
    },
    "tags": []
   },
   "source": [
    "# Add the pos tags if available, else put UNK"
   ]
  },
  {
   "cell_type": "code",
   "execution_count": 27,
   "id": "4cd04dd0",
   "metadata": {
    "execution": {
     "iopub.execute_input": "2023-01-20T10:17:00.801343Z",
     "iopub.status.busy": "2023-01-20T10:17:00.800867Z",
     "iopub.status.idle": "2023-01-20T10:17:00.891827Z",
     "shell.execute_reply": "2023-01-20T10:17:00.890516Z"
    },
    "papermill": {
     "duration": 0.107564,
     "end_time": "2023-01-20T10:17:00.894527",
     "exception": false,
     "start_time": "2023-01-20T10:17:00.786963",
     "status": "completed"
    },
    "tags": []
   },
   "outputs": [],
   "source": [
    "train_data['pos'] = train_data['entity'].apply(add_pos)"
   ]
  },
  {
   "cell_type": "code",
   "execution_count": 28,
   "id": "ae7ab870",
   "metadata": {
    "execution": {
     "iopub.execute_input": "2023-01-20T10:17:00.921342Z",
     "iopub.status.busy": "2023-01-20T10:17:00.920693Z",
     "iopub.status.idle": "2023-01-20T10:17:00.932723Z",
     "shell.execute_reply": "2023-01-20T10:17:00.931792Z"
    },
    "papermill": {
     "duration": 0.02804,
     "end_time": "2023-01-20T10:17:00.934865",
     "exception": false,
     "start_time": "2023-01-20T10:17:00.906825",
     "status": "completed"
    },
    "tags": []
   },
   "outputs": [
    {
     "data": {
      "text/html": [
       "<div>\n",
       "<style scoped>\n",
       "    .dataframe tbody tr th:only-of-type {\n",
       "        vertical-align: middle;\n",
       "    }\n",
       "\n",
       "    .dataframe tbody tr th {\n",
       "        vertical-align: top;\n",
       "    }\n",
       "\n",
       "    .dataframe thead th {\n",
       "        text-align: right;\n",
       "    }\n",
       "</style>\n",
       "<table border=\"1\" class=\"dataframe\">\n",
       "  <thead>\n",
       "    <tr style=\"text-align: right;\">\n",
       "      <th></th>\n",
       "      <th>entity</th>\n",
       "      <th>tag</th>\n",
       "      <th>pos</th>\n",
       "    </tr>\n",
       "  </thead>\n",
       "  <tbody>\n",
       "    <tr>\n",
       "      <th>0</th>\n",
       "      <td>তার</td>\n",
       "      <td>O</td>\n",
       "      <td>pronoun</td>\n",
       "    </tr>\n",
       "    <tr>\n",
       "      <th>1</th>\n",
       "      <td>মৃত্যুর</td>\n",
       "      <td>O</td>\n",
       "      <td>UNK</td>\n",
       "    </tr>\n",
       "    <tr>\n",
       "      <th>2</th>\n",
       "      <td>দশ</td>\n",
       "      <td>O</td>\n",
       "      <td>adverb</td>\n",
       "    </tr>\n",
       "    <tr>\n",
       "      <th>3</th>\n",
       "      <td>দিন</td>\n",
       "      <td>O</td>\n",
       "      <td>verb</td>\n",
       "    </tr>\n",
       "    <tr>\n",
       "      <th>4</th>\n",
       "      <td>পর</td>\n",
       "      <td>O</td>\n",
       "      <td>adjective</td>\n",
       "    </tr>\n",
       "  </tbody>\n",
       "</table>\n",
       "</div>"
      ],
      "text/plain": [
       "    entity tag        pos\n",
       "0      তার   O    pronoun\n",
       "1  মৃত্যুর   O        UNK\n",
       "2       দশ   O     adverb\n",
       "3      দিন   O       verb\n",
       "4       পর   O  adjective"
      ]
     },
     "execution_count": 28,
     "metadata": {},
     "output_type": "execute_result"
    }
   ],
   "source": [
    "train_data.head()"
   ]
  },
  {
   "cell_type": "code",
   "execution_count": 29,
   "id": "0f40fb67",
   "metadata": {
    "execution": {
     "iopub.execute_input": "2023-01-20T10:17:00.962237Z",
     "iopub.status.busy": "2023-01-20T10:17:00.961784Z",
     "iopub.status.idle": "2023-01-20T10:17:01.480315Z",
     "shell.execute_reply": "2023-01-20T10:17:01.478766Z"
    },
    "papermill": {
     "duration": 0.534957,
     "end_time": "2023-01-20T10:17:01.482859",
     "exception": false,
     "start_time": "2023-01-20T10:17:00.947902",
     "status": "completed"
    },
    "tags": []
   },
   "outputs": [
    {
     "name": "stderr",
     "output_type": "stream",
     "text": [
      "/opt/conda/lib/python3.7/site-packages/seaborn/_decorators.py:43: FutureWarning: Pass the following variable as a keyword arg: x. From version 0.12, the only valid positional argument will be `data`, and passing other arguments without an explicit keyword will result in an error or misinterpretation.\n",
      "  FutureWarning\n"
     ]
    },
    {
     "data": {
      "image/png": "[encoded data removed]",
      "text/plain": [
       "<Figure size 1080x360 with 1 Axes>"
      ]
     },
     "metadata": {},
     "output_type": "display_data"
    }
   ],
   "source": [
    "plt.figure(figsize=(15, 5))\n",
    "ax = sns.countplot(train_data['pos'])\n",
    "#ax.set_xticklabels(ax.get_xticklabels(), rotation=90, ha=\"center\")\n",
    "plt.tight_layout()\n",
    "plt.show()"
   ]
  },
  {
   "cell_type": "code",
   "execution_count": 30,
   "id": "c39f1469",
   "metadata": {
    "execution": {
     "iopub.execute_input": "2023-01-20T10:17:01.510889Z",
     "iopub.status.busy": "2023-01-20T10:17:01.510464Z",
     "iopub.status.idle": "2023-01-20T10:17:01.565901Z",
     "shell.execute_reply": "2023-01-20T10:17:01.564628Z"
    },
    "papermill": {
     "duration": 0.072736,
     "end_time": "2023-01-20T10:17:01.568732",
     "exception": false,
     "start_time": "2023-01-20T10:17:01.495996",
     "status": "completed"
    },
    "tags": []
   },
   "outputs": [],
   "source": [
    "valid_data = pd.read_csv(DATA_DIR+'dev.txt', sep=\" \", header=None, dtype='str', skip_blank_lines=False)\n",
    "valid_data.columns = ['entity', 'space1','space2', 'tag']\n",
    "valid_data.drop(['space1', 'space2'], axis=1, inplace=True)\n",
    "valid_data['entity'] = valid_data['entity'].astype(str)\n",
    "valid_data['tag'] = valid_data['tag'].astype(str)\n",
    "valid_data['entity'] = valid_data['entity'].apply(clean_entity)\n",
    "valid_data['pos'] = valid_data['entity'].apply(add_pos)"
   ]
  },
  {
   "cell_type": "code",
   "execution_count": 31,
   "id": "897d8940",
   "metadata": {
    "execution": {
     "iopub.execute_input": "2023-01-20T10:17:01.597878Z",
     "iopub.status.busy": "2023-01-20T10:17:01.597464Z",
     "iopub.status.idle": "2023-01-20T10:17:01.873461Z",
     "shell.execute_reply": "2023-01-20T10:17:01.871951Z"
    },
    "papermill": {
     "duration": 0.293977,
     "end_time": "2023-01-20T10:17:01.876545",
     "exception": false,
     "start_time": "2023-01-20T10:17:01.582568",
     "status": "completed"
    },
    "tags": []
   },
   "outputs": [],
   "source": [
    "train_data.to_csv('cleaned_train.csv',header=True, index=False)\n",
    "valid_data.to_csv('cleaned_valid.csv', header=True, index=False)"
   ]
  },
  {
   "cell_type": "code",
   "execution_count": null,
   "id": "5f2bcc24",
   "metadata": {
    "papermill": {
     "duration": 0.012824,
     "end_time": "2023-01-20T10:17:01.902479",
     "exception": false,
     "start_time": "2023-01-20T10:17:01.889655",
     "status": "completed"
    },
    "tags": []
   },
   "outputs": [],
   "source": []
  }
 ],
 "metadata": {
  "kernelspec": {
   "display_name": "Python 3",
   "language": "python",
   "name": "python3"
  },
  "language_info": {
   "codemirror_mode": {
    "name": "ipython",
    "version": 3
   },
   "file_extension": ".py",
   "mimetype": "text/x-python",
   "name": "python",
   "nbconvert_exporter": "python",
   "pygments_lexer": "ipython3",
   "version": "3.7.12"
  },
  "papermill": {
   "default_parameters": {},
   "duration": 17.024306,
   "end_time": "2023-01-20T10:17:02.739071",
   "environment_variables": {},
   "exception": null,
   "input_path": "__notebook__.ipynb",
   "output_path": "__notebook__.ipynb",
   "parameters": {},
   "start_time": "2023-01-20T10:16:45.714765",
   "version": "2.3.4"
  }
 },
 "nbformat": 4,
 "nbformat_minor": 5
}
