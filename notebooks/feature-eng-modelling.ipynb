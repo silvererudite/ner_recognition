{
 "cells": [
  {
   "cell_type": "code",
   "execution_count": 1,
   "id": "3a189b80",
   "metadata": {
    "_cell_guid": "b1076dfc-b9ad-4769-8c92-a6c4dae69d19",
    "_uuid": "8f2839f25d086af736a60e9eeb907d3b93b6e0e5",
    "execution": {
     "iopub.execute_input": "2023-01-20T14:24:05.403111Z",
     "iopub.status.busy": "2023-01-20T14:24:05.402560Z",
     "iopub.status.idle": "2023-01-20T14:24:05.414648Z",
     "shell.execute_reply": "2023-01-20T14:24:05.413118Z"
    },
    "papermill": {
     "duration": 0.02615,
     "end_time": "2023-01-20T14:24:05.418212",
     "exception": false,
     "start_time": "2023-01-20T14:24:05.392062",
     "status": "completed"
    },
    "tags": []
   },
   "outputs": [],
   "source": [
    "import numpy as np # linear algebra\n",
    "import pandas as pd # data processing, CSV file I/O (e.g. pd.read_csv)\n",
    "import os\n",
    "from collections import Counter\n"
   ]
  },
  {
   "cell_type": "code",
   "execution_count": 2,
   "id": "bc4f6b5b",
   "metadata": {
    "execution": {
     "iopub.execute_input": "2023-01-20T14:24:05.433617Z",
     "iopub.status.busy": "2023-01-20T14:24:05.432612Z",
     "iopub.status.idle": "2023-01-20T14:24:05.438466Z",
     "shell.execute_reply": "2023-01-20T14:24:05.437266Z"
    },
    "papermill": {
     "duration": 0.016517,
     "end_time": "2023-01-20T14:24:05.441453",
     "exception": false,
     "start_time": "2023-01-20T14:24:05.424936",
     "status": "completed"
    },
    "tags": []
   },
   "outputs": [],
   "source": [
    "DATA_DIR = '/kaggle/input/bangla-ner/'"
   ]
  },
  {
   "cell_type": "code",
   "execution_count": 3,
   "id": "a6898a52",
   "metadata": {
    "execution": {
     "iopub.execute_input": "2023-01-20T14:24:05.456499Z",
     "iopub.status.busy": "2023-01-20T14:24:05.455583Z",
     "iopub.status.idle": "2023-01-20T14:24:05.736230Z",
     "shell.execute_reply": "2023-01-20T14:24:05.734616Z"
    },
    "papermill": {
     "duration": 0.292179,
     "end_time": "2023-01-20T14:24:05.739778",
     "exception": false,
     "start_time": "2023-01-20T14:24:05.447599",
     "status": "completed"
    },
    "tags": []
   },
   "outputs": [],
   "source": [
    "train_data = pd.read_csv(DATA_DIR+'cleaned_train.csv')\n",
    "valid_data = pd.read_csv(DATA_DIR+'cleaned_valid.csv')"
   ]
  },
  {
   "cell_type": "code",
   "execution_count": 4,
   "id": "be15d093",
   "metadata": {
    "execution": {
     "iopub.execute_input": "2023-01-20T14:24:05.757554Z",
     "iopub.status.busy": "2023-01-20T14:24:05.756675Z",
     "iopub.status.idle": "2023-01-20T14:24:05.781303Z",
     "shell.execute_reply": "2023-01-20T14:24:05.779957Z"
    },
    "papermill": {
     "duration": 0.035424,
     "end_time": "2023-01-20T14:24:05.784330",
     "exception": false,
     "start_time": "2023-01-20T14:24:05.748906",
     "status": "completed"
    },
    "tags": []
   },
   "outputs": [
    {
     "data": {
      "text/html": [
       "<div>\n",
       "<style scoped>\n",
       "    .dataframe tbody tr th:only-of-type {\n",
       "        vertical-align: middle;\n",
       "    }\n",
       "\n",
       "    .dataframe tbody tr th {\n",
       "        vertical-align: top;\n",
       "    }\n",
       "\n",
       "    .dataframe thead th {\n",
       "        text-align: right;\n",
       "    }\n",
       "</style>\n",
       "<table border=\"1\" class=\"dataframe\">\n",
       "  <thead>\n",
       "    <tr style=\"text-align: right;\">\n",
       "      <th></th>\n",
       "      <th>entity</th>\n",
       "      <th>tag</th>\n",
       "      <th>pos</th>\n",
       "    </tr>\n",
       "  </thead>\n",
       "  <tbody>\n",
       "    <tr>\n",
       "      <th>0</th>\n",
       "      <td>তার</td>\n",
       "      <td>O</td>\n",
       "      <td>pronoun</td>\n",
       "    </tr>\n",
       "    <tr>\n",
       "      <th>1</th>\n",
       "      <td>মৃত্যুর</td>\n",
       "      <td>O</td>\n",
       "      <td>UNK</td>\n",
       "    </tr>\n",
       "    <tr>\n",
       "      <th>2</th>\n",
       "      <td>দশ</td>\n",
       "      <td>O</td>\n",
       "      <td>adverb</td>\n",
       "    </tr>\n",
       "    <tr>\n",
       "      <th>3</th>\n",
       "      <td>দিন</td>\n",
       "      <td>O</td>\n",
       "      <td>verb</td>\n",
       "    </tr>\n",
       "    <tr>\n",
       "      <th>4</th>\n",
       "      <td>পর</td>\n",
       "      <td>O</td>\n",
       "      <td>adjective</td>\n",
       "    </tr>\n",
       "  </tbody>\n",
       "</table>\n",
       "</div>"
      ],
      "text/plain": [
       "    entity tag        pos\n",
       "0      তার   O    pronoun\n",
       "1  মৃত্যুর   O        UNK\n",
       "2       দশ   O     adverb\n",
       "3      দিন   O       verb\n",
       "4       পর   O  adjective"
      ]
     },
     "execution_count": 4,
     "metadata": {},
     "output_type": "execute_result"
    }
   ],
   "source": [
    "train_data.head()"
   ]
  },
  {
   "cell_type": "code",
   "execution_count": 5,
   "id": "0f1afca5",
   "metadata": {
    "execution": {
     "iopub.execute_input": "2023-01-20T14:24:05.801188Z",
     "iopub.status.busy": "2023-01-20T14:24:05.800665Z",
     "iopub.status.idle": "2023-01-20T14:24:05.823472Z",
     "shell.execute_reply": "2023-01-20T14:24:05.822126Z"
    },
    "papermill": {
     "duration": 0.03516,
     "end_time": "2023-01-20T14:24:05.826753",
     "exception": false,
     "start_time": "2023-01-20T14:24:05.791593",
     "status": "completed"
    },
    "tags": []
   },
   "outputs": [
    {
     "data": {
      "text/plain": [
       "2"
      ]
     },
     "execution_count": 5,
     "metadata": {},
     "output_type": "execute_result"
    }
   ],
   "source": [
    "len(train_data.loc[4,'entity'])"
   ]
  },
  {
   "cell_type": "code",
   "execution_count": 6,
   "id": "48fe0803",
   "metadata": {
    "execution": {
     "iopub.execute_input": "2023-01-20T14:24:05.842263Z",
     "iopub.status.busy": "2023-01-20T14:24:05.841719Z",
     "iopub.status.idle": "2023-01-20T14:24:05.889609Z",
     "shell.execute_reply": "2023-01-20T14:24:05.888259Z"
    },
    "papermill": {
     "duration": 0.059738,
     "end_time": "2023-01-20T14:24:05.893095",
     "exception": false,
     "start_time": "2023-01-20T14:24:05.833357",
     "status": "completed"
    },
    "tags": []
   },
   "outputs": [],
   "source": [
    "train_data['entity'] = train_data['entity'].astype(str)\n",
    "train_data['tag'] = train_data['tag'].astype(str)\n",
    "train_data['pos'] = train_data['pos'].astype(str)"
   ]
  },
  {
   "cell_type": "markdown",
   "id": "a95a1ed8",
   "metadata": {
    "papermill": {
     "duration": 0.006265,
     "end_time": "2023-01-20T14:24:05.906910",
     "exception": false,
     "start_time": "2023-01-20T14:24:05.900645",
     "status": "completed"
    },
    "tags": []
   },
   "source": [
    "# Feature-engineering\n",
    "- len might be a possible feature as the difference between the lengths of the types of the entities may help\n",
    "- word frequency \n",
    "- pos as the vector of UNK, pronoun, noun, verb, adverb, adjective, article, interjection, conjunction, preposition, prefix, article, abbreviation,phraseadjective/feminine"
   ]
  },
  {
   "cell_type": "code",
   "execution_count": 7,
   "id": "83f89bcb",
   "metadata": {
    "execution": {
     "iopub.execute_input": "2023-01-20T14:24:05.922943Z",
     "iopub.status.busy": "2023-01-20T14:24:05.922298Z",
     "iopub.status.idle": "2023-01-20T14:24:05.960657Z",
     "shell.execute_reply": "2023-01-20T14:24:05.958969Z"
    },
    "papermill": {
     "duration": 0.049631,
     "end_time": "2023-01-20T14:24:05.963506",
     "exception": false,
     "start_time": "2023-01-20T14:24:05.913875",
     "status": "completed"
    },
    "tags": []
   },
   "outputs": [],
   "source": [
    "# the vocabulary in the training set present\n",
    "word_list = train_data['entity'].values\n",
    "word_count = Counter(word_list)\n",
    "pos_vector = ['UNK', 'pronoun', 'noun', 'verb', 'adverb', 'adjective', 'article', 'interjection', 'conjunction', 'preposition', 'prefix', 'article', 'abbreviation','phraseadjective/feminine']"
   ]
  },
  {
   "cell_type": "code",
   "execution_count": 8,
   "id": "aa237bd1",
   "metadata": {
    "execution": {
     "iopub.execute_input": "2023-01-20T14:24:05.981239Z",
     "iopub.status.busy": "2023-01-20T14:24:05.980664Z",
     "iopub.status.idle": "2023-01-20T14:24:05.987867Z",
     "shell.execute_reply": "2023-01-20T14:24:05.986485Z"
    },
    "papermill": {
     "duration": 0.020634,
     "end_time": "2023-01-20T14:24:05.990876",
     "exception": false,
     "start_time": "2023-01-20T14:24:05.970242",
     "status": "completed"
    },
    "tags": []
   },
   "outputs": [],
   "source": [
    "def get_posvector(text):\n",
    "    pos_vec = np.zeros(len(pos_vector))\n",
    "    idx = np.where(pos_vector == 15)\n",
    "    pos_vec[idx] = 1\n",
    "    return pos_vec"
   ]
  },
  {
   "cell_type": "code",
   "execution_count": 9,
   "id": "0709e378",
   "metadata": {
    "execution": {
     "iopub.execute_input": "2023-01-20T14:24:06.006657Z",
     "iopub.status.busy": "2023-01-20T14:24:06.006107Z",
     "iopub.status.idle": "2023-01-20T14:24:07.343901Z",
     "shell.execute_reply": "2023-01-20T14:24:07.342418Z"
    },
    "papermill": {
     "duration": 1.349226,
     "end_time": "2023-01-20T14:24:07.346837",
     "exception": false,
     "start_time": "2023-01-20T14:24:05.997611",
     "status": "completed"
    },
    "tags": []
   },
   "outputs": [],
   "source": [
    "train_data['len'] = train_data['entity'].apply(lambda x: len(x))\n",
    "train_data['frequency'] = train_data['entity'].apply(lambda x: word_count.get(x, 0))\n",
    "train_data['pos_vector'] = train_data['entity'].apply(get_posvector)"
   ]
  },
  {
   "cell_type": "code",
   "execution_count": 10,
   "id": "b16637ff",
   "metadata": {
    "execution": {
     "iopub.execute_input": "2023-01-20T14:24:07.360969Z",
     "iopub.status.busy": "2023-01-20T14:24:07.360498Z",
     "iopub.status.idle": "2023-01-20T14:24:07.375921Z",
     "shell.execute_reply": "2023-01-20T14:24:07.374870Z"
    },
    "papermill": {
     "duration": 0.025491,
     "end_time": "2023-01-20T14:24:07.378553",
     "exception": false,
     "start_time": "2023-01-20T14:24:07.353062",
     "status": "completed"
    },
    "tags": []
   },
   "outputs": [
    {
     "data": {
      "text/html": [
       "<div>\n",
       "<style scoped>\n",
       "    .dataframe tbody tr th:only-of-type {\n",
       "        vertical-align: middle;\n",
       "    }\n",
       "\n",
       "    .dataframe tbody tr th {\n",
       "        vertical-align: top;\n",
       "    }\n",
       "\n",
       "    .dataframe thead th {\n",
       "        text-align: right;\n",
       "    }\n",
       "</style>\n",
       "<table border=\"1\" class=\"dataframe\">\n",
       "  <thead>\n",
       "    <tr style=\"text-align: right;\">\n",
       "      <th></th>\n",
       "      <th>entity</th>\n",
       "      <th>tag</th>\n",
       "      <th>pos</th>\n",
       "      <th>len</th>\n",
       "      <th>frequency</th>\n",
       "      <th>pos_vector</th>\n",
       "    </tr>\n",
       "  </thead>\n",
       "  <tbody>\n",
       "    <tr>\n",
       "      <th>0</th>\n",
       "      <td>তার</td>\n",
       "      <td>O</td>\n",
       "      <td>pronoun</td>\n",
       "      <td>3</td>\n",
       "      <td>1602</td>\n",
       "      <td>[0.0, 0.0, 0.0, 0.0, 0.0, 0.0, 0.0, 0.0, 0.0, ...</td>\n",
       "    </tr>\n",
       "    <tr>\n",
       "      <th>1</th>\n",
       "      <td>মৃত্যুর</td>\n",
       "      <td>O</td>\n",
       "      <td>UNK</td>\n",
       "      <td>7</td>\n",
       "      <td>48</td>\n",
       "      <td>[0.0, 0.0, 0.0, 0.0, 0.0, 0.0, 0.0, 0.0, 0.0, ...</td>\n",
       "    </tr>\n",
       "    <tr>\n",
       "      <th>2</th>\n",
       "      <td>দশ</td>\n",
       "      <td>O</td>\n",
       "      <td>adverb</td>\n",
       "      <td>2</td>\n",
       "      <td>21</td>\n",
       "      <td>[0.0, 0.0, 0.0, 0.0, 0.0, 0.0, 0.0, 0.0, 0.0, ...</td>\n",
       "    </tr>\n",
       "    <tr>\n",
       "      <th>3</th>\n",
       "      <td>দিন</td>\n",
       "      <td>O</td>\n",
       "      <td>verb</td>\n",
       "      <td>3</td>\n",
       "      <td>55</td>\n",
       "      <td>[0.0, 0.0, 0.0, 0.0, 0.0, 0.0, 0.0, 0.0, 0.0, ...</td>\n",
       "    </tr>\n",
       "    <tr>\n",
       "      <th>4</th>\n",
       "      <td>পর</td>\n",
       "      <td>O</td>\n",
       "      <td>adjective</td>\n",
       "      <td>2</td>\n",
       "      <td>303</td>\n",
       "      <td>[0.0, 0.0, 0.0, 0.0, 0.0, 0.0, 0.0, 0.0, 0.0, ...</td>\n",
       "    </tr>\n",
       "  </tbody>\n",
       "</table>\n",
       "</div>"
      ],
      "text/plain": [
       "    entity tag        pos  len  frequency  \\\n",
       "0      তার   O    pronoun    3       1602   \n",
       "1  মৃত্যুর   O        UNK    7         48   \n",
       "2       দশ   O     adverb    2         21   \n",
       "3      দিন   O       verb    3         55   \n",
       "4       পর   O  adjective    2        303   \n",
       "\n",
       "                                          pos_vector  \n",
       "0  [0.0, 0.0, 0.0, 0.0, 0.0, 0.0, 0.0, 0.0, 0.0, ...  \n",
       "1  [0.0, 0.0, 0.0, 0.0, 0.0, 0.0, 0.0, 0.0, 0.0, ...  \n",
       "2  [0.0, 0.0, 0.0, 0.0, 0.0, 0.0, 0.0, 0.0, 0.0, ...  \n",
       "3  [0.0, 0.0, 0.0, 0.0, 0.0, 0.0, 0.0, 0.0, 0.0, ...  \n",
       "4  [0.0, 0.0, 0.0, 0.0, 0.0, 0.0, 0.0, 0.0, 0.0, ...  "
      ]
     },
     "execution_count": 10,
     "metadata": {},
     "output_type": "execute_result"
    }
   ],
   "source": [
    "train_data.head()"
   ]
  },
  {
   "cell_type": "code",
   "execution_count": 11,
   "id": "28dae660",
   "metadata": {
    "execution": {
     "iopub.execute_input": "2023-01-20T14:24:07.392585Z",
     "iopub.status.busy": "2023-01-20T14:24:07.392157Z",
     "iopub.status.idle": "2023-01-20T14:24:07.402443Z",
     "shell.execute_reply": "2023-01-20T14:24:07.401540Z"
    },
    "papermill": {
     "duration": 0.020045,
     "end_time": "2023-01-20T14:24:07.404858",
     "exception": false,
     "start_time": "2023-01-20T14:24:07.384813",
     "status": "completed"
    },
    "tags": []
   },
   "outputs": [],
   "source": [
    "valid_data['entity'] = valid_data['entity'].astype(str)\n",
    "valid_data['tag'] = valid_data['tag'].astype(str)\n",
    "valid_data['pos'] = valid_data['pos'].astype(str)"
   ]
  },
  {
   "cell_type": "code",
   "execution_count": 12,
   "id": "16c4c25a",
   "metadata": {
    "execution": {
     "iopub.execute_input": "2023-01-20T14:24:07.419477Z",
     "iopub.status.busy": "2023-01-20T14:24:07.418336Z",
     "iopub.status.idle": "2023-01-20T14:24:07.506167Z",
     "shell.execute_reply": "2023-01-20T14:24:07.504986Z"
    },
    "papermill": {
     "duration": 0.097938,
     "end_time": "2023-01-20T14:24:07.508944",
     "exception": false,
     "start_time": "2023-01-20T14:24:07.411006",
     "status": "completed"
    },
    "tags": []
   },
   "outputs": [],
   "source": [
    "valid_data['len'] = valid_data['entity'].apply(lambda x: len(x))\n",
    "valid_data['frequency'] = valid_data['entity'].apply(lambda x: word_count.get(x, 0))\n",
    "valid_data['pos_vector'] = valid_data['entity'].apply(get_posvector)"
   ]
  },
  {
   "cell_type": "code",
   "execution_count": 13,
   "id": "7b4b6696",
   "metadata": {
    "execution": {
     "iopub.execute_input": "2023-01-20T14:24:07.523004Z",
     "iopub.status.busy": "2023-01-20T14:24:07.522574Z",
     "iopub.status.idle": "2023-01-20T14:24:08.808762Z",
     "shell.execute_reply": "2023-01-20T14:24:08.807520Z"
    },
    "papermill": {
     "duration": 1.296422,
     "end_time": "2023-01-20T14:24:08.811458",
     "exception": false,
     "start_time": "2023-01-20T14:24:07.515036",
     "status": "completed"
    },
    "tags": []
   },
   "outputs": [],
   "source": [
    "from sklearn.ensemble import RandomForestClassifier\n",
    "from sklearn.model_selection import cross_val_predict, cross_val_score\n",
    "from sklearn.metrics import f1_score, make_scorer"
   ]
  },
  {
   "cell_type": "code",
   "execution_count": 14,
   "id": "596b8c93",
   "metadata": {
    "execution": {
     "iopub.execute_input": "2023-01-20T14:24:08.825700Z",
     "iopub.status.busy": "2023-01-20T14:24:08.824675Z",
     "iopub.status.idle": "2023-01-20T14:24:08.829374Z",
     "shell.execute_reply": "2023-01-20T14:24:08.828557Z"
    },
    "papermill": {
     "duration": 0.013969,
     "end_time": "2023-01-20T14:24:08.831546",
     "exception": false,
     "start_time": "2023-01-20T14:24:08.817577",
     "status": "completed"
    },
    "tags": []
   },
   "outputs": [],
   "source": [
    "from sklearn.preprocessing import LabelEncoder"
   ]
  },
  {
   "cell_type": "code",
   "execution_count": 15,
   "id": "cbf984f9",
   "metadata": {
    "execution": {
     "iopub.execute_input": "2023-01-20T14:24:08.845617Z",
     "iopub.status.busy": "2023-01-20T14:24:08.845012Z",
     "iopub.status.idle": "2023-01-20T14:24:08.850522Z",
     "shell.execute_reply": "2023-01-20T14:24:08.849726Z"
    },
    "papermill": {
     "duration": 0.015092,
     "end_time": "2023-01-20T14:24:08.852715",
     "exception": false,
     "start_time": "2023-01-20T14:24:08.837623",
     "status": "completed"
    },
    "tags": []
   },
   "outputs": [],
   "source": [
    "def encode_labels(data,subset, enc=None):\n",
    "    \n",
    "    if subset == 'train':\n",
    "        enc = LabelEncoder()\n",
    "        transformed_labels = enc.fit_transform(data.to_list())\n",
    "    else: \n",
    "        transformed_labels = enc.transform(data.to_list())\n",
    "\n",
    "    transformed_labels  = transformed_labels.reshape(-1,1)\n",
    "    return transformed_labels, enc"
   ]
  },
  {
   "cell_type": "code",
   "execution_count": 16,
   "id": "c31ad0a6",
   "metadata": {
    "execution": {
     "iopub.execute_input": "2023-01-20T14:24:08.866654Z",
     "iopub.status.busy": "2023-01-20T14:24:08.866207Z",
     "iopub.status.idle": "2023-01-20T14:24:08.950585Z",
     "shell.execute_reply": "2023-01-20T14:24:08.949282Z"
    },
    "papermill": {
     "duration": 0.094833,
     "end_time": "2023-01-20T14:24:08.953700",
     "exception": false,
     "start_time": "2023-01-20T14:24:08.858867",
     "status": "completed"
    },
    "tags": []
   },
   "outputs": [],
   "source": [
    "train_data['tag'], label_encoder = encode_labels(train_data['tag'], 'train')"
   ]
  },
  {
   "cell_type": "code",
   "execution_count": 17,
   "id": "a5b87cf5",
   "metadata": {
    "execution": {
     "iopub.execute_input": "2023-01-20T14:24:08.967451Z",
     "iopub.status.busy": "2023-01-20T14:24:08.967039Z",
     "iopub.status.idle": "2023-01-20T14:24:08.980012Z",
     "shell.execute_reply": "2023-01-20T14:24:08.978865Z"
    },
    "papermill": {
     "duration": 0.022353,
     "end_time": "2023-01-20T14:24:08.982076",
     "exception": false,
     "start_time": "2023-01-20T14:24:08.959723",
     "status": "completed"
    },
    "tags": []
   },
   "outputs": [],
   "source": [
    "valid_data['tag'], _ = encode_labels(valid_data['tag'], 'valid', label_encoder)"
   ]
  },
  {
   "cell_type": "code",
   "execution_count": 18,
   "id": "e94f365e",
   "metadata": {
    "execution": {
     "iopub.execute_input": "2023-01-20T14:24:08.995846Z",
     "iopub.status.busy": "2023-01-20T14:24:08.995343Z",
     "iopub.status.idle": "2023-01-20T14:24:09.324370Z",
     "shell.execute_reply": "2023-01-20T14:24:09.323203Z"
    },
    "papermill": {
     "duration": 0.339143,
     "end_time": "2023-01-20T14:24:09.327266",
     "exception": false,
     "start_time": "2023-01-20T14:24:08.988123",
     "status": "completed"
    },
    "tags": []
   },
   "outputs": [],
   "source": [
    "words , tags = train_data[['len','frequency']].values.tolist(), train_data['tag'].values"
   ]
  },
  {
   "cell_type": "code",
   "execution_count": 19,
   "id": "a721a099",
   "metadata": {
    "execution": {
     "iopub.execute_input": "2023-01-20T14:24:09.340992Z",
     "iopub.status.busy": "2023-01-20T14:24:09.340571Z",
     "iopub.status.idle": "2023-01-20T14:24:21.108690Z",
     "shell.execute_reply": "2023-01-20T14:24:21.107783Z"
    },
    "papermill": {
     "duration": 11.777696,
     "end_time": "2023-01-20T14:24:21.111021",
     "exception": false,
     "start_time": "2023-01-20T14:24:09.333325",
     "status": "completed"
    },
    "tags": []
   },
   "outputs": [
    {
     "data": {
      "text/plain": [
       "array([0.21459775, 0.21481537, 0.21296821, 0.21212955, 0.21437238])"
      ]
     },
     "execution_count": 19,
     "metadata": {},
     "output_type": "execute_result"
    }
   ],
   "source": [
    "cross_val_score(RandomForestClassifier(n_estimators=20),scoring=make_scorer(f1_score, average='macro'),X=words, y=tags, cv=5)"
   ]
  },
  {
   "cell_type": "code",
   "execution_count": null,
   "id": "f330f41d",
   "metadata": {
    "papermill": {
     "duration": 0.006006,
     "end_time": "2023-01-20T14:24:21.123404",
     "exception": false,
     "start_time": "2023-01-20T14:24:21.117398",
     "status": "completed"
    },
    "tags": []
   },
   "outputs": [],
   "source": []
  }
 ],
 "metadata": {
  "kernelspec": {
   "display_name": "Python 3",
   "language": "python",
   "name": "python3"
  },
  "language_info": {
   "codemirror_mode": {
    "name": "ipython",
    "version": 3
   },
   "file_extension": ".py",
   "mimetype": "text/x-python",
   "name": "python",
   "nbconvert_exporter": "python",
   "pygments_lexer": "ipython3",
   "version": "3.7.12"
  },
  "papermill": {
   "default_parameters": {},
   "duration": 25.124158,
   "end_time": "2023-01-20T14:24:21.952083",
   "environment_variables": {},
   "exception": null,
   "input_path": "__notebook__.ipynb",
   "output_path": "__notebook__.ipynb",
   "parameters": {},
   "start_time": "2023-01-20T14:23:56.827925",
   "version": "2.3.4"
  }
 },
 "nbformat": 4,
 "nbformat_minor": 5
}
