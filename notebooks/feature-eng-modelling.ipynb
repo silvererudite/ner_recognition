{
 "cells": [
  {
   "cell_type": "code",
   "execution_count": 1,
   "id": "5eed1379",
   "metadata": {
    "_cell_guid": "b1076dfc-b9ad-4769-8c92-a6c4dae69d19",
    "_uuid": "8f2839f25d086af736a60e9eeb907d3b93b6e0e5",
    "execution": {
     "iopub.execute_input": "2023-01-20T14:58:38.390495Z",
     "iopub.status.busy": "2023-01-20T14:58:38.390037Z",
     "iopub.status.idle": "2023-01-20T14:58:38.401420Z",
     "shell.execute_reply": "2023-01-20T14:58:38.400108Z"
    },
    "papermill": {
     "duration": 0.024581,
     "end_time": "2023-01-20T14:58:38.404264",
     "exception": false,
     "start_time": "2023-01-20T14:58:38.379683",
     "status": "completed"
    },
    "tags": []
   },
   "outputs": [],
   "source": [
    "import numpy as np # linear algebra\n",
    "import pandas as pd # data processing, CSV file I/O (e.g. pd.read_csv)\n",
    "import os\n",
    "from collections import Counter\n"
   ]
  },
  {
   "cell_type": "code",
   "execution_count": 2,
   "id": "cdfdbb84",
   "metadata": {
    "execution": {
     "iopub.execute_input": "2023-01-20T14:58:38.420520Z",
     "iopub.status.busy": "2023-01-20T14:58:38.419960Z",
     "iopub.status.idle": "2023-01-20T14:58:38.425383Z",
     "shell.execute_reply": "2023-01-20T14:58:38.424285Z"
    },
    "papermill": {
     "duration": 0.016274,
     "end_time": "2023-01-20T14:58:38.427800",
     "exception": false,
     "start_time": "2023-01-20T14:58:38.411526",
     "status": "completed"
    },
    "tags": []
   },
   "outputs": [],
   "source": [
    "DATA_DIR = '/kaggle/input/bangla-ner/'"
   ]
  },
  {
   "cell_type": "code",
   "execution_count": 3,
   "id": "57c3fc4e",
   "metadata": {
    "execution": {
     "iopub.execute_input": "2023-01-20T14:58:38.443766Z",
     "iopub.status.busy": "2023-01-20T14:58:38.443346Z",
     "iopub.status.idle": "2023-01-20T14:58:38.695797Z",
     "shell.execute_reply": "2023-01-20T14:58:38.694792Z"
    },
    "papermill": {
     "duration": 0.263658,
     "end_time": "2023-01-20T14:58:38.698578",
     "exception": false,
     "start_time": "2023-01-20T14:58:38.434920",
     "status": "completed"
    },
    "tags": []
   },
   "outputs": [],
   "source": [
    "train_data = pd.read_csv(DATA_DIR+'cleaned_train.csv')\n",
    "valid_data = pd.read_csv(DATA_DIR+'cleaned_valid.csv')"
   ]
  },
  {
   "cell_type": "code",
   "execution_count": 4,
   "id": "a5884b45",
   "metadata": {
    "execution": {
     "iopub.execute_input": "2023-01-20T14:58:38.714892Z",
     "iopub.status.busy": "2023-01-20T14:58:38.714172Z",
     "iopub.status.idle": "2023-01-20T14:58:39.228865Z",
     "shell.execute_reply": "2023-01-20T14:58:39.227542Z"
    },
    "papermill": {
     "duration": 0.526154,
     "end_time": "2023-01-20T14:58:39.232008",
     "exception": false,
     "start_time": "2023-01-20T14:58:38.705854",
     "status": "completed"
    },
    "tags": []
   },
   "outputs": [],
   "source": [
    "stop_words = pd.read_excel('/kaggle/input/bangla-stopwords/bangla_stopwords.xlsx')"
   ]
  },
  {
   "cell_type": "code",
   "execution_count": 5,
   "id": "e0b69f65",
   "metadata": {
    "execution": {
     "iopub.execute_input": "2023-01-20T14:58:39.248209Z",
     "iopub.status.busy": "2023-01-20T14:58:39.247568Z",
     "iopub.status.idle": "2023-01-20T14:58:39.268382Z",
     "shell.execute_reply": "2023-01-20T14:58:39.267172Z"
    },
    "papermill": {
     "duration": 0.032125,
     "end_time": "2023-01-20T14:58:39.271208",
     "exception": false,
     "start_time": "2023-01-20T14:58:39.239083",
     "status": "completed"
    },
    "tags": []
   },
   "outputs": [
    {
     "data": {
      "text/html": [
       "<div>\n",
       "<style scoped>\n",
       "    .dataframe tbody tr th:only-of-type {\n",
       "        vertical-align: middle;\n",
       "    }\n",
       "\n",
       "    .dataframe tbody tr th {\n",
       "        vertical-align: top;\n",
       "    }\n",
       "\n",
       "    .dataframe thead th {\n",
       "        text-align: right;\n",
       "    }\n",
       "</style>\n",
       "<table border=\"1\" class=\"dataframe\">\n",
       "  <thead>\n",
       "    <tr style=\"text-align: right;\">\n",
       "      <th></th>\n",
       "      <th>Unnamed: 0</th>\n",
       "      <th>word_list</th>\n",
       "    </tr>\n",
       "  </thead>\n",
       "  <tbody>\n",
       "    <tr>\n",
       "      <th>0</th>\n",
       "      <td>0</td>\n",
       "      <td>অই</td>\n",
       "    </tr>\n",
       "    <tr>\n",
       "      <th>1</th>\n",
       "      <td>1</td>\n",
       "      <td>অগত্যা</td>\n",
       "    </tr>\n",
       "    <tr>\n",
       "      <th>2</th>\n",
       "      <td>2</td>\n",
       "      <td>অত: পর</td>\n",
       "    </tr>\n",
       "    <tr>\n",
       "      <th>3</th>\n",
       "      <td>3</td>\n",
       "      <td>অতএব</td>\n",
       "    </tr>\n",
       "    <tr>\n",
       "      <th>4</th>\n",
       "      <td>4</td>\n",
       "      <td>অথচ</td>\n",
       "    </tr>\n",
       "  </tbody>\n",
       "</table>\n",
       "</div>"
      ],
      "text/plain": [
       "   Unnamed: 0 word_list\n",
       "0           0        অই\n",
       "1           1    অগত্যা\n",
       "2           2    অত: পর\n",
       "3           3      অতএব\n",
       "4           4       অথচ"
      ]
     },
     "execution_count": 5,
     "metadata": {},
     "output_type": "execute_result"
    }
   ],
   "source": [
    "stop_words.head()"
   ]
  },
  {
   "cell_type": "code",
   "execution_count": 6,
   "id": "f7b27258",
   "metadata": {
    "execution": {
     "iopub.execute_input": "2023-01-20T14:58:39.288566Z",
     "iopub.status.busy": "2023-01-20T14:58:39.287408Z",
     "iopub.status.idle": "2023-01-20T14:58:39.300162Z",
     "shell.execute_reply": "2023-01-20T14:58:39.298924Z"
    },
    "papermill": {
     "duration": 0.024142,
     "end_time": "2023-01-20T14:58:39.302751",
     "exception": false,
     "start_time": "2023-01-20T14:58:39.278609",
     "status": "completed"
    },
    "tags": []
   },
   "outputs": [
    {
     "data": {
      "text/html": [
       "<div>\n",
       "<style scoped>\n",
       "    .dataframe tbody tr th:only-of-type {\n",
       "        vertical-align: middle;\n",
       "    }\n",
       "\n",
       "    .dataframe tbody tr th {\n",
       "        vertical-align: top;\n",
       "    }\n",
       "\n",
       "    .dataframe thead th {\n",
       "        text-align: right;\n",
       "    }\n",
       "</style>\n",
       "<table border=\"1\" class=\"dataframe\">\n",
       "  <thead>\n",
       "    <tr style=\"text-align: right;\">\n",
       "      <th></th>\n",
       "      <th>entity</th>\n",
       "      <th>tag</th>\n",
       "      <th>pos</th>\n",
       "    </tr>\n",
       "  </thead>\n",
       "  <tbody>\n",
       "    <tr>\n",
       "      <th>0</th>\n",
       "      <td>তার</td>\n",
       "      <td>O</td>\n",
       "      <td>pronoun</td>\n",
       "    </tr>\n",
       "    <tr>\n",
       "      <th>1</th>\n",
       "      <td>মৃত্যুর</td>\n",
       "      <td>O</td>\n",
       "      <td>UNK</td>\n",
       "    </tr>\n",
       "    <tr>\n",
       "      <th>2</th>\n",
       "      <td>দশ</td>\n",
       "      <td>O</td>\n",
       "      <td>adverb</td>\n",
       "    </tr>\n",
       "    <tr>\n",
       "      <th>3</th>\n",
       "      <td>দিন</td>\n",
       "      <td>O</td>\n",
       "      <td>verb</td>\n",
       "    </tr>\n",
       "    <tr>\n",
       "      <th>4</th>\n",
       "      <td>পর</td>\n",
       "      <td>O</td>\n",
       "      <td>adjective</td>\n",
       "    </tr>\n",
       "  </tbody>\n",
       "</table>\n",
       "</div>"
      ],
      "text/plain": [
       "    entity tag        pos\n",
       "0      তার   O    pronoun\n",
       "1  মৃত্যুর   O        UNK\n",
       "2       দশ   O     adverb\n",
       "3      দিন   O       verb\n",
       "4       পর   O  adjective"
      ]
     },
     "execution_count": 6,
     "metadata": {},
     "output_type": "execute_result"
    }
   ],
   "source": [
    "train_data.head()"
   ]
  },
  {
   "cell_type": "code",
   "execution_count": 7,
   "id": "c75286f2",
   "metadata": {
    "execution": {
     "iopub.execute_input": "2023-01-20T14:58:39.321181Z",
     "iopub.status.busy": "2023-01-20T14:58:39.320479Z",
     "iopub.status.idle": "2023-01-20T14:58:39.344569Z",
     "shell.execute_reply": "2023-01-20T14:58:39.343308Z"
    },
    "papermill": {
     "duration": 0.037078,
     "end_time": "2023-01-20T14:58:39.347114",
     "exception": false,
     "start_time": "2023-01-20T14:58:39.310036",
     "status": "completed"
    },
    "tags": []
   },
   "outputs": [
    {
     "data": {
      "text/plain": [
       "2"
      ]
     },
     "execution_count": 7,
     "metadata": {},
     "output_type": "execute_result"
    }
   ],
   "source": [
    "len(train_data.loc[4,'entity'])"
   ]
  },
  {
   "cell_type": "code",
   "execution_count": 8,
   "id": "452d3f87",
   "metadata": {
    "execution": {
     "iopub.execute_input": "2023-01-20T14:58:39.365008Z",
     "iopub.status.busy": "2023-01-20T14:58:39.363902Z",
     "iopub.status.idle": "2023-01-20T14:58:39.414649Z",
     "shell.execute_reply": "2023-01-20T14:58:39.413241Z"
    },
    "papermill": {
     "duration": 0.062971,
     "end_time": "2023-01-20T14:58:39.418125",
     "exception": false,
     "start_time": "2023-01-20T14:58:39.355154",
     "status": "completed"
    },
    "tags": []
   },
   "outputs": [],
   "source": [
    "train_data['entity'] = train_data['entity'].astype(str)\n",
    "train_data['tag'] = train_data['tag'].astype(str)\n",
    "train_data['pos'] = train_data['pos'].astype(str)"
   ]
  },
  {
   "cell_type": "markdown",
   "id": "e79b4075",
   "metadata": {
    "papermill": {
     "duration": 0.007086,
     "end_time": "2023-01-20T14:58:39.432848",
     "exception": false,
     "start_time": "2023-01-20T14:58:39.425762",
     "status": "completed"
    },
    "tags": []
   },
   "source": [
    "# Feature-engineering\n",
    "- len might be a possible feature as the difference between the lengths of the types of the entities may help\n",
    "- word frequency \n",
    "- pos as the vector of UNK, pronoun, noun, verb, adverb, adjective, article, interjection, conjunction, preposition, prefix, article, abbreviation,phraseadjective/feminine"
   ]
  },
  {
   "cell_type": "code",
   "execution_count": 9,
   "id": "e12c58ce",
   "metadata": {
    "execution": {
     "iopub.execute_input": "2023-01-20T14:58:39.449530Z",
     "iopub.status.busy": "2023-01-20T14:58:39.449063Z",
     "iopub.status.idle": "2023-01-20T14:58:39.482530Z",
     "shell.execute_reply": "2023-01-20T14:58:39.481144Z"
    },
    "papermill": {
     "duration": 0.045046,
     "end_time": "2023-01-20T14:58:39.485214",
     "exception": false,
     "start_time": "2023-01-20T14:58:39.440168",
     "status": "completed"
    },
    "tags": []
   },
   "outputs": [],
   "source": [
    "# the vocabulary in the training set present\n",
    "word_list = train_data['entity'].values\n",
    "word_count = Counter(word_list)\n",
    "pos_vector = ['UNK', 'pronoun', 'noun', 'verb', 'adverb', 'adjective', 'article', 'interjection', 'conjunction', 'preposition', 'prefix', 'article', 'abbreviation','phraseadjective/feminine']"
   ]
  },
  {
   "cell_type": "code",
   "execution_count": 10,
   "id": "6f53ceb5",
   "metadata": {
    "execution": {
     "iopub.execute_input": "2023-01-20T14:58:39.502183Z",
     "iopub.status.busy": "2023-01-20T14:58:39.501778Z",
     "iopub.status.idle": "2023-01-20T14:58:39.508478Z",
     "shell.execute_reply": "2023-01-20T14:58:39.507098Z"
    },
    "papermill": {
     "duration": 0.018094,
     "end_time": "2023-01-20T14:58:39.511044",
     "exception": false,
     "start_time": "2023-01-20T14:58:39.492950",
     "status": "completed"
    },
    "tags": []
   },
   "outputs": [],
   "source": [
    "def get_posvector(text):\n",
    "    pos_vec = np.zeros(len(pos_vector))\n",
    "    idx = np.where(pos_vector == 15)\n",
    "    pos_vec[idx] = 1\n",
    "    return pos_vec"
   ]
  },
  {
   "cell_type": "code",
   "execution_count": 11,
   "id": "9b1dbca0",
   "metadata": {
    "execution": {
     "iopub.execute_input": "2023-01-20T14:58:39.528721Z",
     "iopub.status.busy": "2023-01-20T14:58:39.528168Z",
     "iopub.status.idle": "2023-01-20T14:58:40.844873Z",
     "shell.execute_reply": "2023-01-20T14:58:40.843570Z"
    },
    "papermill": {
     "duration": 1.329149,
     "end_time": "2023-01-20T14:58:40.847787",
     "exception": false,
     "start_time": "2023-01-20T14:58:39.518638",
     "status": "completed"
    },
    "tags": []
   },
   "outputs": [],
   "source": [
    "train_data['len'] = train_data['entity'].apply(lambda x: len(x))\n",
    "train_data['frequency'] = train_data['entity'].apply(lambda x: word_count.get(x, 0))\n",
    "train_data['pos_vector'] = train_data['entity'].apply(get_posvector)"
   ]
  },
  {
   "cell_type": "code",
   "execution_count": 12,
   "id": "b68b44f6",
   "metadata": {
    "execution": {
     "iopub.execute_input": "2023-01-20T14:58:40.865027Z",
     "iopub.status.busy": "2023-01-20T14:58:40.864552Z",
     "iopub.status.idle": "2023-01-20T14:58:40.882090Z",
     "shell.execute_reply": "2023-01-20T14:58:40.880832Z"
    },
    "papermill": {
     "duration": 0.029913,
     "end_time": "2023-01-20T14:58:40.885076",
     "exception": false,
     "start_time": "2023-01-20T14:58:40.855163",
     "status": "completed"
    },
    "tags": []
   },
   "outputs": [
    {
     "data": {
      "text/html": [
       "<div>\n",
       "<style scoped>\n",
       "    .dataframe tbody tr th:only-of-type {\n",
       "        vertical-align: middle;\n",
       "    }\n",
       "\n",
       "    .dataframe tbody tr th {\n",
       "        vertical-align: top;\n",
       "    }\n",
       "\n",
       "    .dataframe thead th {\n",
       "        text-align: right;\n",
       "    }\n",
       "</style>\n",
       "<table border=\"1\" class=\"dataframe\">\n",
       "  <thead>\n",
       "    <tr style=\"text-align: right;\">\n",
       "      <th></th>\n",
       "      <th>entity</th>\n",
       "      <th>tag</th>\n",
       "      <th>pos</th>\n",
       "      <th>len</th>\n",
       "      <th>frequency</th>\n",
       "      <th>pos_vector</th>\n",
       "    </tr>\n",
       "  </thead>\n",
       "  <tbody>\n",
       "    <tr>\n",
       "      <th>0</th>\n",
       "      <td>তার</td>\n",
       "      <td>O</td>\n",
       "      <td>pronoun</td>\n",
       "      <td>3</td>\n",
       "      <td>1602</td>\n",
       "      <td>[0.0, 0.0, 0.0, 0.0, 0.0, 0.0, 0.0, 0.0, 0.0, ...</td>\n",
       "    </tr>\n",
       "    <tr>\n",
       "      <th>1</th>\n",
       "      <td>মৃত্যুর</td>\n",
       "      <td>O</td>\n",
       "      <td>UNK</td>\n",
       "      <td>7</td>\n",
       "      <td>48</td>\n",
       "      <td>[0.0, 0.0, 0.0, 0.0, 0.0, 0.0, 0.0, 0.0, 0.0, ...</td>\n",
       "    </tr>\n",
       "    <tr>\n",
       "      <th>2</th>\n",
       "      <td>দশ</td>\n",
       "      <td>O</td>\n",
       "      <td>adverb</td>\n",
       "      <td>2</td>\n",
       "      <td>21</td>\n",
       "      <td>[0.0, 0.0, 0.0, 0.0, 0.0, 0.0, 0.0, 0.0, 0.0, ...</td>\n",
       "    </tr>\n",
       "    <tr>\n",
       "      <th>3</th>\n",
       "      <td>দিন</td>\n",
       "      <td>O</td>\n",
       "      <td>verb</td>\n",
       "      <td>3</td>\n",
       "      <td>55</td>\n",
       "      <td>[0.0, 0.0, 0.0, 0.0, 0.0, 0.0, 0.0, 0.0, 0.0, ...</td>\n",
       "    </tr>\n",
       "    <tr>\n",
       "      <th>4</th>\n",
       "      <td>পর</td>\n",
       "      <td>O</td>\n",
       "      <td>adjective</td>\n",
       "      <td>2</td>\n",
       "      <td>303</td>\n",
       "      <td>[0.0, 0.0, 0.0, 0.0, 0.0, 0.0, 0.0, 0.0, 0.0, ...</td>\n",
       "    </tr>\n",
       "  </tbody>\n",
       "</table>\n",
       "</div>"
      ],
      "text/plain": [
       "    entity tag        pos  len  frequency  \\\n",
       "0      তার   O    pronoun    3       1602   \n",
       "1  মৃত্যুর   O        UNK    7         48   \n",
       "2       দশ   O     adverb    2         21   \n",
       "3      দিন   O       verb    3         55   \n",
       "4       পর   O  adjective    2        303   \n",
       "\n",
       "                                          pos_vector  \n",
       "0  [0.0, 0.0, 0.0, 0.0, 0.0, 0.0, 0.0, 0.0, 0.0, ...  \n",
       "1  [0.0, 0.0, 0.0, 0.0, 0.0, 0.0, 0.0, 0.0, 0.0, ...  \n",
       "2  [0.0, 0.0, 0.0, 0.0, 0.0, 0.0, 0.0, 0.0, 0.0, ...  \n",
       "3  [0.0, 0.0, 0.0, 0.0, 0.0, 0.0, 0.0, 0.0, 0.0, ...  \n",
       "4  [0.0, 0.0, 0.0, 0.0, 0.0, 0.0, 0.0, 0.0, 0.0, ...  "
      ]
     },
     "execution_count": 12,
     "metadata": {},
     "output_type": "execute_result"
    }
   ],
   "source": [
    "train_data.head()"
   ]
  },
  {
   "cell_type": "code",
   "execution_count": 13,
   "id": "8a31683e",
   "metadata": {
    "execution": {
     "iopub.execute_input": "2023-01-20T14:58:40.902825Z",
     "iopub.status.busy": "2023-01-20T14:58:40.902396Z",
     "iopub.status.idle": "2023-01-20T14:58:40.913126Z",
     "shell.execute_reply": "2023-01-20T14:58:40.911881Z"
    },
    "papermill": {
     "duration": 0.022191,
     "end_time": "2023-01-20T14:58:40.915540",
     "exception": false,
     "start_time": "2023-01-20T14:58:40.893349",
     "status": "completed"
    },
    "tags": []
   },
   "outputs": [],
   "source": [
    "valid_data['entity'] = valid_data['entity'].astype(str)\n",
    "valid_data['tag'] = valid_data['tag'].astype(str)\n",
    "valid_data['pos'] = valid_data['pos'].astype(str)"
   ]
  },
  {
   "cell_type": "code",
   "execution_count": 14,
   "id": "907262ab",
   "metadata": {
    "execution": {
     "iopub.execute_input": "2023-01-20T14:58:40.933905Z",
     "iopub.status.busy": "2023-01-20T14:58:40.932809Z",
     "iopub.status.idle": "2023-01-20T14:58:41.020480Z",
     "shell.execute_reply": "2023-01-20T14:58:41.019186Z"
    },
    "papermill": {
     "duration": 0.100196,
     "end_time": "2023-01-20T14:58:41.023606",
     "exception": false,
     "start_time": "2023-01-20T14:58:40.923410",
     "status": "completed"
    },
    "tags": []
   },
   "outputs": [],
   "source": [
    "valid_data['len'] = valid_data['entity'].apply(lambda x: len(x))\n",
    "valid_data['frequency'] = valid_data['entity'].apply(lambda x: word_count.get(x, 0))\n",
    "valid_data['pos_vector'] = valid_data['entity'].apply(get_posvector)"
   ]
  },
  {
   "cell_type": "code",
   "execution_count": 15,
   "id": "6c34341e",
   "metadata": {
    "execution": {
     "iopub.execute_input": "2023-01-20T14:58:41.041571Z",
     "iopub.status.busy": "2023-01-20T14:58:41.041111Z",
     "iopub.status.idle": "2023-01-20T14:58:42.646059Z",
     "shell.execute_reply": "2023-01-20T14:58:42.644498Z"
    },
    "papermill": {
     "duration": 1.617008,
     "end_time": "2023-01-20T14:58:42.648998",
     "exception": false,
     "start_time": "2023-01-20T14:58:41.031990",
     "status": "completed"
    },
    "tags": []
   },
   "outputs": [],
   "source": [
    "from sklearn.ensemble import RandomForestClassifier\n",
    "from sklearn.model_selection import cross_val_predict, cross_val_score\n",
    "from sklearn.metrics import f1_score, make_scorer"
   ]
  },
  {
   "cell_type": "code",
   "execution_count": 16,
   "id": "559bbd69",
   "metadata": {
    "execution": {
     "iopub.execute_input": "2023-01-20T14:58:42.668931Z",
     "iopub.status.busy": "2023-01-20T14:58:42.668476Z",
     "iopub.status.idle": "2023-01-20T14:58:42.674169Z",
     "shell.execute_reply": "2023-01-20T14:58:42.672819Z"
    },
    "papermill": {
     "duration": 0.018585,
     "end_time": "2023-01-20T14:58:42.676658",
     "exception": false,
     "start_time": "2023-01-20T14:58:42.658073",
     "status": "completed"
    },
    "tags": []
   },
   "outputs": [],
   "source": [
    "from sklearn.preprocessing import LabelEncoder"
   ]
  },
  {
   "cell_type": "code",
   "execution_count": 17,
   "id": "55647529",
   "metadata": {
    "execution": {
     "iopub.execute_input": "2023-01-20T14:58:42.694650Z",
     "iopub.status.busy": "2023-01-20T14:58:42.693764Z",
     "iopub.status.idle": "2023-01-20T14:58:42.700180Z",
     "shell.execute_reply": "2023-01-20T14:58:42.699020Z"
    },
    "papermill": {
     "duration": 0.018619,
     "end_time": "2023-01-20T14:58:42.703135",
     "exception": false,
     "start_time": "2023-01-20T14:58:42.684516",
     "status": "completed"
    },
    "tags": []
   },
   "outputs": [],
   "source": [
    "def encode_labels(data,subset, enc=None):\n",
    "    \n",
    "    if subset == 'train':\n",
    "        enc = LabelEncoder()\n",
    "        transformed_labels = enc.fit_transform(data.to_list())\n",
    "    else: \n",
    "        transformed_labels = enc.transform(data.to_list())\n",
    "\n",
    "    transformed_labels  = transformed_labels.reshape(-1,1)\n",
    "    return transformed_labels, enc"
   ]
  },
  {
   "cell_type": "code",
   "execution_count": 18,
   "id": "a10c026f",
   "metadata": {
    "execution": {
     "iopub.execute_input": "2023-01-20T14:58:42.724424Z",
     "iopub.status.busy": "2023-01-20T14:58:42.723175Z",
     "iopub.status.idle": "2023-01-20T14:58:42.820095Z",
     "shell.execute_reply": "2023-01-20T14:58:42.818269Z"
    },
    "papermill": {
     "duration": 0.110902,
     "end_time": "2023-01-20T14:58:42.823322",
     "exception": false,
     "start_time": "2023-01-20T14:58:42.712420",
     "status": "completed"
    },
    "tags": []
   },
   "outputs": [],
   "source": [
    "train_data['tag'], label_encoder = encode_labels(train_data['tag'], 'train')"
   ]
  },
  {
   "cell_type": "code",
   "execution_count": 19,
   "id": "5dd78b38",
   "metadata": {
    "execution": {
     "iopub.execute_input": "2023-01-20T14:58:42.841506Z",
     "iopub.status.busy": "2023-01-20T14:58:42.841067Z",
     "iopub.status.idle": "2023-01-20T14:58:42.856426Z",
     "shell.execute_reply": "2023-01-20T14:58:42.855265Z"
    },
    "papermill": {
     "duration": 0.027316,
     "end_time": "2023-01-20T14:58:42.858961",
     "exception": false,
     "start_time": "2023-01-20T14:58:42.831645",
     "status": "completed"
    },
    "tags": []
   },
   "outputs": [],
   "source": [
    "valid_data['tag'], _ = encode_labels(valid_data['tag'], 'valid', label_encoder)"
   ]
  },
  {
   "cell_type": "markdown",
   "id": "e54064bc",
   "metadata": {
    "papermill": {
     "duration": 0.007354,
     "end_time": "2023-01-20T14:58:42.874560",
     "exception": false,
     "start_time": "2023-01-20T14:58:42.867206",
     "status": "completed"
    },
    "tags": []
   },
   "source": [
    "# Identify if entities are stopwords"
   ]
  },
  {
   "cell_type": "code",
   "execution_count": 20,
   "id": "c8a13d38",
   "metadata": {
    "execution": {
     "iopub.execute_input": "2023-01-20T14:58:42.894807Z",
     "iopub.status.busy": "2023-01-20T14:58:42.894121Z",
     "iopub.status.idle": "2023-01-20T14:58:42.899509Z",
     "shell.execute_reply": "2023-01-20T14:58:42.898426Z"
    },
    "papermill": {
     "duration": 0.01843,
     "end_time": "2023-01-20T14:58:42.902194",
     "exception": false,
     "start_time": "2023-01-20T14:58:42.883764",
     "status": "completed"
    },
    "tags": []
   },
   "outputs": [],
   "source": [
    "stop_words = set(stop_words['word_list'].values)"
   ]
  },
  {
   "cell_type": "code",
   "execution_count": 21,
   "id": "d8080e7a",
   "metadata": {
    "execution": {
     "iopub.execute_input": "2023-01-20T14:58:42.919868Z",
     "iopub.status.busy": "2023-01-20T14:58:42.919215Z",
     "iopub.status.idle": "2023-01-20T14:58:43.020191Z",
     "shell.execute_reply": "2023-01-20T14:58:43.018903Z"
    },
    "papermill": {
     "duration": 0.113524,
     "end_time": "2023-01-20T14:58:43.023460",
     "exception": false,
     "start_time": "2023-01-20T14:58:42.909936",
     "status": "completed"
    },
    "tags": []
   },
   "outputs": [],
   "source": [
    "train_data['is_stop'] = train_data['entity'].apply(lambda x: 1 if x in stop_words else 0)"
   ]
  },
  {
   "cell_type": "code",
   "execution_count": 22,
   "id": "1d829a54",
   "metadata": {
    "execution": {
     "iopub.execute_input": "2023-01-20T14:58:43.040675Z",
     "iopub.status.busy": "2023-01-20T14:58:43.040248Z",
     "iopub.status.idle": "2023-01-20T14:58:43.425987Z",
     "shell.execute_reply": "2023-01-20T14:58:43.424312Z"
    },
    "papermill": {
     "duration": 0.397737,
     "end_time": "2023-01-20T14:58:43.428997",
     "exception": false,
     "start_time": "2023-01-20T14:58:43.031260",
     "status": "completed"
    },
    "tags": []
   },
   "outputs": [],
   "source": [
    "words , tags = train_data[['len', 'frequency', 'is_stop']].values.tolist(), train_data['tag'].values"
   ]
  },
  {
   "cell_type": "code",
   "execution_count": 23,
   "id": "4ec18836",
   "metadata": {
    "execution": {
     "iopub.execute_input": "2023-01-20T14:58:43.447216Z",
     "iopub.status.busy": "2023-01-20T14:58:43.446788Z",
     "iopub.status.idle": "2023-01-20T14:58:56.697084Z",
     "shell.execute_reply": "2023-01-20T14:58:56.695801Z"
    },
    "papermill": {
     "duration": 13.262584,
     "end_time": "2023-01-20T14:58:56.699667",
     "exception": false,
     "start_time": "2023-01-20T14:58:43.437083",
     "status": "completed"
    },
    "tags": []
   },
   "outputs": [
    {
     "data": {
      "text/plain": [
       "array([0.22464074, 0.2232364 , 0.2198092 , 0.2154388 , 0.22816955])"
      ]
     },
     "execution_count": 23,
     "metadata": {},
     "output_type": "execute_result"
    }
   ],
   "source": [
    "cross_val_score(RandomForestClassifier(n_estimators=20),scoring=make_scorer(f1_score, average='macro'),X=words, y=tags, cv=5)"
   ]
  },
  {
   "cell_type": "code",
   "execution_count": 24,
   "id": "83451d11",
   "metadata": {
    "execution": {
     "iopub.execute_input": "2023-01-20T14:58:56.717330Z",
     "iopub.status.busy": "2023-01-20T14:58:56.716914Z",
     "iopub.status.idle": "2023-01-20T14:58:56.725295Z",
     "shell.execute_reply": "2023-01-20T14:58:56.724228Z"
    },
    "papermill": {
     "duration": 0.020352,
     "end_time": "2023-01-20T14:58:56.727951",
     "exception": false,
     "start_time": "2023-01-20T14:58:56.707599",
     "status": "completed"
    },
    "tags": []
   },
   "outputs": [],
   "source": [
    "from sklearn.naive_bayes import GaussianNB, MultinomialNB"
   ]
  },
  {
   "cell_type": "code",
   "execution_count": 25,
   "id": "dc7c95ee",
   "metadata": {
    "execution": {
     "iopub.execute_input": "2023-01-20T14:58:56.745441Z",
     "iopub.status.busy": "2023-01-20T14:58:56.745051Z",
     "iopub.status.idle": "2023-01-20T14:58:58.482333Z",
     "shell.execute_reply": "2023-01-20T14:58:58.480482Z"
    },
    "papermill": {
     "duration": 1.752191,
     "end_time": "2023-01-20T14:58:58.487951",
     "exception": false,
     "start_time": "2023-01-20T14:58:56.735760",
     "status": "completed"
    },
    "tags": []
   },
   "outputs": [
    {
     "data": {
      "text/plain": [
       "array([0.10975334, 0.10823476, 0.11183666, 0.11197324, 0.12689889])"
      ]
     },
     "execution_count": 25,
     "metadata": {},
     "output_type": "execute_result"
    }
   ],
   "source": [
    "cross_val_score(MultinomialNB(),scoring=make_scorer(f1_score, average='macro'),X=words, y=tags, cv=5)"
   ]
  },
  {
   "cell_type": "code",
   "execution_count": null,
   "id": "8e21de3a",
   "metadata": {
    "papermill": {
     "duration": 0.022415,
     "end_time": "2023-01-20T14:58:58.534835",
     "exception": false,
     "start_time": "2023-01-20T14:58:58.512420",
     "status": "completed"
    },
    "tags": []
   },
   "outputs": [],
   "source": []
  }
 ],
 "metadata": {
  "kernelspec": {
   "display_name": "Python 3",
   "language": "python",
   "name": "python3"
  },
  "language_info": {
   "codemirror_mode": {
    "name": "ipython",
    "version": 3
   },
   "file_extension": ".py",
   "mimetype": "text/x-python",
   "name": "python",
   "nbconvert_exporter": "python",
   "pygments_lexer": "ipython3",
   "version": "3.7.12"
  },
  "papermill": {
   "default_parameters": {},
   "duration": 31.388486,
   "end_time": "2023-01-20T14:58:59.476067",
   "environment_variables": {},
   "exception": null,
   "input_path": "__notebook__.ipynb",
   "output_path": "__notebook__.ipynb",
   "parameters": {},
   "start_time": "2023-01-20T14:58:28.087581",
   "version": "2.3.4"
  }
 },
 "nbformat": 4,
 "nbformat_minor": 5
}
